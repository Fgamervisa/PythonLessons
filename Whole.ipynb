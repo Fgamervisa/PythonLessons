{
 "cells": [
  {
   "cell_type": "markdown",
   "metadata": {},
   "source": [
    "# Introduzione a Python"
   ]
  },
  {
   "cell_type": "markdown",
   "metadata": {},
   "source": [
    "cos'è python?\n",
    "\n",
    ">Python è un linguaggio di programmazione che permette di scrivere istruzioni per far fare cose al computer in modo semplice e leggibile. Puoi usarlo per fare molte cose diverse, come creare siti web, analizzare dati, o anche fare giochi. È amato dagli sviluppatori perché è facile da imparare e da usare."
   ]
  },
  {
   "cell_type": "markdown",
   "metadata": {},
   "source": [
    "# Il Primo Programma "
   ]
  },
  {
   "cell_type": "code",
   "execution_count": 5,
   "metadata": {},
   "outputs": [
    {
     "name": "stdout",
     "output_type": "stream",
     "text": [
      "Ciao Gabriele !\n"
     ]
    }
   ],
   "source": [
    "print(\"Ciao\", input(\"Inserisci il tuo nome: \"), \"!\")"
   ]
  },
  {
   "cell_type": "markdown",
   "metadata": {},
   "source": [
    "<p id=\"Print&Input\">Comandi usati:</p>\n",
    "\n",
    "1. print()\n",
    "\n",
    "    stampa l'argomento (il codice fra parentesi)\n",
    "2. input()\n",
    "\n",
    "    chiede un input all'utente, mostrando a schermo l'argomento. L'input viene **sempre** preso come stringa"
   ]
  },
  {
   "cell_type": "code",
   "execution_count": 6,
   "metadata": {},
   "outputs": [
    {
     "name": "stdout",
     "output_type": "stream",
     "text": [
      "TemplateText\n"
     ]
    }
   ],
   "source": [
    "nome = \"TemplateText\"\n",
    "print(nome)"
   ]
  },
  {
   "cell_type": "markdown",
   "metadata": {},
   "source": [
    "<h5 id=\"tipi di dati\"> Tipi di dati: </h5>\n",
    "\n",
    "Numeri interi (int): Rappresentano numeri interi senza decimali. Ad esempio: 5, -10, 100.\n",
    "\n",
    "Numeri decimali (float): Rappresentano numeri con decimali. Ad esempio: 3.14, -0.5, 2.0.\n",
    "\n",
    "Stringhe (str): Rappresentano sequenze di caratteri, come lettere, numeri o simboli, racchiuse tra virgolette. Ad esempio: \"ciao\", \"123\", \n",
    "\"Python è divertente!\".\n",
    "\n",
    "Booleani (bool): Possono avere solo due valori: True o False. Sono utilizzati per valutare condizioni e controllare il flusso di un programma.\n",
    "\n",
    "##### Assegnamento di variabili:\n",
    "\n",
    "Assegnare un valore a una variabile: È come dare un nome a un valore; ad esempio: x = 5 assegna il valore 5 alla variabile x.\n",
    "\n",
    "Riassegnare una variabile: Puoi cambiare il valore di una variabile assegnandole un nuovo valore; ad esempio: x = 10 cambia il valore di x da 5 a 10.\n",
    "\n",
    "Utilizzare le variabili: Dopo aver assegnato un valore a una variabile, puoi utilizzare quel valore facendo riferimento al nome della variabile; ad esempio: se x = 5, allora print(x) stamperà 5."
   ]
  },
  {
   "cell_type": "code",
   "execution_count": 7,
   "metadata": {},
   "outputs": [
    {
     "name": "stdout",
     "output_type": "stream",
     "text": [
      "hai inserito Via accademia, 26\n"
     ]
    }
   ],
   "source": [
    "print(\"hai inserito \" + input(\"scegli nome della via\"))"
   ]
  },
  {
   "cell_type": "markdown",
   "metadata": {},
   "source": [
    ">Stessi concetti del precendente\n",
    "se si vuole esercitarsi riempire li spazi:\n",
    "\n",
    "1. print()\n",
    "\n",
    "    ..............................\n",
    "\n",
    "2. input()\n",
    "\n",
    "    .............................."
   ]
  },
  {
   "cell_type": "code",
   "execution_count": 8,
   "metadata": {},
   "outputs": [
    {
     "name": "stdout",
     "output_type": "stream",
     "text": [
      "Ciao Gabriele !\n",
      "Ciao Gabriele !\n",
      "Ciao Gabriele !\n"
     ]
    }
   ],
   "source": [
    "nome = input(\"Inserisci il tuo nome: \")\n",
    "for contatore in range(3):\n",
    "    print(\"Ciao\", nome, \"!\")"
   ]
  },
  {
   "cell_type": "markdown",
   "metadata": {},
   "source": [
    "nuovi comandi usati:\n",
    "\n",
    "1. for\n",
    "\n",
    "    usato per iterare, **deve** essere seguito da una variabile ed a un in\n",
    "\n",
    "2. range\n",
    "\n",
    "    Il comando \"range\" in Python è usato per generare una sequenza di numeri, partendo da un numero di inizio fino a un numero precedente a quello finale specificato, con incrementi fissi, se necessario.\n",
    "\n",
    "\n",
    "Non ricordi qualche comando? Clicca <a href=\"α\">qui</a> per la lista completa"
   ]
  },
  {
   "cell_type": "markdown",
   "metadata": {},
   "source": [
    "# dove le cose si fanno interessanti"
   ]
  },
  {
   "cell_type": "markdown",
   "metadata": {},
   "source": [
    "#### Le operazioni"
   ]
  },
  {
   "cell_type": "code",
   "execution_count": 9,
   "metadata": {},
   "outputs": [
    {
     "name": "stdout",
     "output_type": "stream",
     "text": [
      "La somma è: 44\n"
     ]
    }
   ],
   "source": [
    "numero1 = int(input(\"Inserisci il primo numero: \"))\n",
    "numero2 = int(input(\"Inserisci il secondo numero: \"))\n",
    "print(\"La somma è:\",  int(numero1 + numero2))"
   ]
  },
  {
   "cell_type": "markdown",
   "metadata": {},
   "source": [
    "nuovi comandi usati:\n",
    "\n",
    "1. int()\n",
    "\n",
    "    trasforma la variabile in numero intero(se possibile, altrimenti resstituisce errore)\n",
    "\n",
    "    Non ricordi qualche comando? Clicca <a href=\"α\">qui</a> per la lista completa"
   ]
  },
  {
   "cell_type": "markdown",
   "metadata": {},
   "source": [
    "##### gli operatori aritmetici:\n",
    "    li operatori aritmetici in Python sono simboli utilizzati per eseguire operazioni matematiche su numeri. Ecco una spiegazione semplice:\n",
    "\n",
    "1. Addizione (+): Somma due numeri.\n",
    "2. Sottrazione (-): Sottrae il secondo numero dal primo.\n",
    "3.  Moltiplicazione (*): Moltiplica due numeri.\n",
    "4.  Divisione (/): Divide il primo numero per il secondo (risultato come float).\n",
    "5. Divisione intera (//): Divide il primo numero per il secondo, restituendo solo la parte intera del risultato.\n",
    "6. Resto della divisione (%): Restituisce il resto della divisione tra due numeri.\n",
    "7. Esponenziale (**): Eleva un numero alla potenza di un altro.\n",
    "\n",
    "##### qualche esempio:"
   ]
  },
  {
   "cell_type": "code",
   "execution_count": 10,
   "metadata": {},
   "outputs": [
    {
     "name": "stdout",
     "output_type": "stream",
     "text": [
      "Addizione (+): 13\n",
      "Sottrazione (-): 7\n",
      "Moltiplicazione (*): 30\n",
      "Divisione (/): 3.3333333333333335\n",
      "Divisione intera (//): 3\n",
      "Resto della divisione (%): 1\n",
      "Esponenziale (**): 1000\n"
     ]
    }
   ],
   "source": [
    "nEsempio1, nEsempio2 = 10,3 \n",
    "#notare: questo metodo per dichiarare più variabili\n",
    "# è molto utile per pulire il codice e si può fare \n",
    "#con diversi tipi di dato\n",
    "\n",
    "print(\"Addizione (+):\", 10 + 3)\n",
    "print(\"Sottrazione (-):\", 10 - 3)\n",
    "print(\"Moltiplicazione (*):\", 10 * 3)\n",
    "print(\"Divisione (/):\", 10 / 3)\n",
    "print(\"Divisione intera (//):\", 10 // 3)\n",
    "print(\"Resto della divisione (%):\", 10 % 3)\n",
    "print(\"Esponenziale (**):\", 10 ** 3)"
   ]
  },
  {
   "cell_type": "markdown",
   "metadata": {},
   "source": [
    "# Calcolatrice Python"
   ]
  },
  {
   "cell_type": "code",
   "execution_count": 11,
   "metadata": {},
   "outputs": [
    {
     "name": "stdout",
     "output_type": "stream",
     "text": [
      "Il risultato è: 43.0\n"
     ]
    }
   ],
   "source": [
    "# Calcolatrice Python con decisioni\n",
    "\n",
    "operazione = input(\"Inserisci l'operazione (+, -, *, /): \")\n",
    "\n",
    "numero1 = float(input(\"Inserisci il primo numero: \"))\n",
    "numero2 = float(input(\"Inserisci il secondo numero: \"))\n",
    "\n",
    "if operazione == \"+\":\n",
    "    risultato = numero1 + numero2\n",
    "elif operazione == \"-\":\n",
    "    risultato = numero1 - numero2\n",
    "elif operazione == \"*\":\n",
    "    risultato = numero1 * numero2\n",
    "elif operazione == \"/\":\n",
    "    risultato = numero1 / numero2\n",
    "else:\n",
    "    risultato = \"Operazione non valida\"\n",
    "    \n",
    "print(\"Il risultato è:\", risultato)"
   ]
  },
  {
   "cell_type": "markdown",
   "metadata": {},
   "source": [
    "nuovi comandi utilizzati:\n",
    "\n",
    "1. if\n",
    "\n",
    "    verifica se la condizione che viene posta dopo è corretta, se lo è esegue il codice\n",
    "\n",
    "2. else\n",
    "\n",
    "    \"altrimenti\" il codice da eseguire qual'ora la condizione non fosse vera\n",
    "\n",
    "\n",
    ">Non ricordi qualche comando? Clicca <a href=\"α\">qui</a> per la lista completa"
   ]
  },
  {
   "cell_type": "markdown",
   "metadata": {},
   "source": [
    "<h5> gli operatori di confronto </h5>\n",
    "\n",
    "- `>` : Maggiore di  \n",
    "  - Esempio: `5 > 3` restituisce True.\n",
    "  \n",
    "- `<` : Minore di  \n",
    "  - Esempio: `3 < 5` restituisce True.\n",
    "  \n",
    "- `==` : Uguale a  \n",
    "  - Esempio: `5 == 5` restituisce True.\n",
    "  \n",
    "- `>=` : Maggiore o uguale a  \n",
    "  - Esempio: `5 >= 5` restituisce True.\n",
    "  \n",
    "- `<=` : Minore o uguale a  \n",
    "  - Esempio: `3 <= 5` restituisce True.\n",
    "  \n",
    "- `!=` : Diverso da  \n",
    "  - Esempio: `5 != 3` restituisce True.\n"
   ]
  },
  {
   "cell_type": "markdown",
   "metadata": {},
   "source": [
    "##### Contare fino a N"
   ]
  },
  {
   "cell_type": "code",
   "execution_count": 12,
   "metadata": {},
   "outputs": [
    {
     "name": "stdout",
     "output_type": "stream",
     "text": [
      "1\n",
      "2\n",
      "3\n"
     ]
    }
   ],
   "source": [
    "n = int(input(\"Inserisci un numero intero positivo:\"))\n",
    "\n",
    "for x in range(1,n+1):\n",
    "    print(x)"
   ]
  },
  {
   "cell_type": "markdown",
   "metadata": {},
   "source": [
    ">concetti precedenetmente usati se si vuole esercitarsi:\n",
    "\n",
    "1. for\n",
    "\n",
    "    ..............................\n",
    "\n",
    "2. int()\n",
    "\n",
    "    ..............................\n",
    "\n",
    "3. print()\n",
    "\n",
    "    ..............................\n",
    "\n",
    "4. range()\n",
    "\n",
    "    ..............................\n",
    "\n",
    "> Non ricordi qualche comando? Clicca <a href=\"α\">qui</a> per la lista completa"
   ]
  },
  {
   "cell_type": "markdown",
   "metadata": {},
   "source": [
    "# Somma dei primi N numeri"
   ]
  },
  {
   "cell_type": "code",
   "execution_count": 13,
   "metadata": {},
   "outputs": [
    {
     "name": "stdout",
     "output_type": "stream",
     "text": [
      "La somma dei primi 6 numeri interi è: 36\n"
     ]
    }
   ],
   "source": [
    "n = int(input(\"Inserisci un numero intero positivo: \"))\n",
    "somma = 0\n",
    "\n",
    "for x in range(1, n+1):\n",
    "    somma += n\n",
    "print(\"La somma dei primi\", n, \"numeri interi è:\", somma)"
   ]
  },
  {
   "cell_type": "markdown",
   "metadata": {},
   "source": [
    ">concetti precedenetmente usati se si vuole esercitarsi:\n",
    "\n",
    "1. for\n",
    "\n",
    "    ..............................\n",
    "\n",
    "2. int()\n",
    "\n",
    "    ..............................\n",
    "\n",
    "3. print()\n",
    "\n",
    "    ..............................\n",
    "\n",
    "4. range()\n",
    "\n",
    "    ..............................\n",
    "\n",
    ">Non ricordi qualche comando? Clicca <a href=\"α\">qui</a> per la lista completa"
   ]
  },
  {
   "cell_type": "markdown",
   "metadata": {},
   "source": [
    "# Calcolare il Quadrato dei N Primi Numeri "
   ]
  },
  {
   "cell_type": "code",
   "execution_count": 14,
   "metadata": {},
   "outputs": [
    {
     "name": "stdout",
     "output_type": "stream",
     "text": [
      "Quadrati dei primi 7 numeri:\n",
      "Il quadrato di 1 è 1\n",
      "Il quadrato di 2 è 4\n",
      "Il quadrato di 3 è 9\n",
      "Il quadrato di 4 è 16\n",
      "Il quadrato di 5 è 25\n",
      "Il quadrato di 6 è 36\n",
      "Il quadrato di 7 è 49\n"
     ]
    }
   ],
   "source": [
    "n = int(input(\"Inserisci un numero intero positivo: \"))\n",
    "\n",
    "print(\"Quadrati dei primi\", n, \"numeri:\")\n",
    "\n",
    "for x in range (1, n+1):\n",
    "    quadrato = x ** 2\n",
    "    print(\"Il quadrato di\", x, \"è\", quadrato)"
   ]
  },
  {
   "cell_type": "markdown",
   "metadata": {},
   "source": [
    ">concetti precedenetmente usati se si vuole esercitarsi:\n",
    "\n",
    "1. for\n",
    "\n",
    "    ..............................\n",
    "\n",
    "2. int()\n",
    "\n",
    "    ..............................\n",
    "\n",
    "3. print()\n",
    "\n",
    "    ..............................\n",
    "\n",
    "4. range()\n",
    "\n",
    "    ..............................\n",
    "\n",
    ">Non ricordi qualche comando? Clicca <a href=\"α\">qui</a> per la lista completa"
   ]
  },
  {
   "cell_type": "markdown",
   "metadata": {},
   "source": [
    "# Parità..."
   ]
  },
  {
   "cell_type": "code",
   "execution_count": 15,
   "metadata": {},
   "outputs": [
    {
     "name": "stdout",
     "output_type": "stream",
     "text": [
      "3 è un numero dispari.\n"
     ]
    }
   ],
   "source": [
    "numero = int(input(\"Inserisci un numero: \"))\n",
    "\n",
    "\n",
    "if numero % 2 == 0:\n",
    "    print(numero, \"é un numero pari.\")\n",
    "else:\n",
    "    print(numero, \"è un numero dispari.\")"
   ]
  },
  {
   "cell_type": "markdown",
   "metadata": {},
   "source": [
    ">concetti precedentemente usati se si vuole esercitarsi:\n",
    "\n",
    "1. int()\n",
    "    \n",
    "    ..............................\n",
    "\n",
    "2. print()\n",
    "\n",
    "    .............................."
   ]
  },
  {
   "cell_type": "markdown",
   "metadata": {},
   "source": [
    "# ...Fattoriali e... "
   ]
  },
  {
   "cell_type": "code",
   "execution_count": 16,
   "metadata": {},
   "outputs": [
    {
     "name": "stdout",
     "output_type": "stream",
     "text": [
      "La media dei numeri inseriti ( [5.0, 4.0, 4.0, 4.0] ) è: 4.25 [5.0, 4.0, 4.0, 4.0]\n"
     ]
    }
   ],
   "source": [
    "numeri = [] #Lista vuota di nome numeri\n",
    "\n",
    "n = int(input(\"Quanti numeri vuoi inserire= \")) #Chiede quanti numeri voglio inserire dentro la lista vuota\n",
    "\n",
    "#chiede un numero per quanto hai detto alla prima domanda\n",
    "for i in range(n):\n",
    "    numero = float(input(\"Inserisci un numero: \"))\n",
    "    numeri.append(numero) #mette il numero inserito dopo quello precedente\n",
    "    \n",
    "media = sum(numeri) / len(numeri) #Somma numeri dentro la lista e divide per lunghezza di quanti elementi ci sono\n",
    "\n",
    "print(\"La media dei numeri inseriti (\", numeri, \") è:\", media, numeri)"
   ]
  },
  {
   "cell_type": "markdown",
   "metadata": {},
   "source": [
    "#### Noti niente di nuovo?\n",
    "\n",
    "Esatto! Una []!\n",
    "\n",
    "quella è una lista, le liste in Python sono come elenchi di cose che puoi mettere insieme, come una lista della spesa. Puoi mettere dentro le liste numeri, parole o qualsiasi altra cosa, e poi accedervi per leggerle o modificarle come vuoi.\n",
    "\n",
    "###### fun fact: le stringhe contano come liste di lettere"
   ]
  },
  {
   "cell_type": "markdown",
   "metadata": {},
   "source": [
    "Comandi nuovi:\n",
    "\n",
    "1. sum()\n",
    "\n",
    "    somma tutti i numeri di una lista\n",
    "\n",
    "2. len()\n",
    "\n",
    "    ti dà la lunghezza di una lista (o stringa) come valore\n",
    "\n",
    "3. append()\n",
    "\n",
    "    metodo solo delle liste, per aggiungere un elemento in fondo\n",
    "\n",
    "4. float()\n",
    "\n",
    "\n",
    ">Non ricordi qualche comando? Clicca <a href=\"α\">qui</a> per la lista completa"
   ]
  },
  {
   "cell_type": "markdown",
   "metadata": {},
   "source": [
    "# come calcolare il fattoriale"
   ]
  },
  {
   "cell_type": "code",
   "execution_count": 17,
   "metadata": {},
   "outputs": [
    {
     "name": "stdout",
     "output_type": "stream",
     "text": [
      "Il fattoriale di 3 è 27\n"
     ]
    }
   ],
   "source": [
    "n = int(input(\"Inserisci un numero intero: \"))\n",
    "\n",
    "fattoriale = 1\n",
    "\n",
    "if n<0:\n",
    "    print(\"Numero Negativo\")\n",
    "elif n ==0:\n",
    "    print(\"Il numero di zero è un 1 per definizione\")\n",
    "else:\n",
    "    for x in range(1, n+1):\n",
    "        fattoriale*=n\n",
    "print(f\"Il fattoriale di {n} è {fattoriale}\")"
   ]
  },
  {
   "cell_type": "markdown",
   "metadata": {},
   "source": [
    "# Gioco dell'Indovinello "
   ]
  },
  {
   "cell_type": "code",
   "execution_count": 18,
   "metadata": {},
   "outputs": [
    {
     "name": "stdout",
     "output_type": "stream",
     "text": [
      "Il numero è più grande\n",
      "Il numero è più grande\n",
      "Il numero è più grande\n",
      "Il numero è più grande\n",
      "Il numero è più grande\n",
      "Il numero è più grande\n",
      "Il numero è più grande\n",
      "Il numero è più piccolo\n",
      "Il numero è più grande\n",
      "Il numero è più grande\n",
      "Il numero è più piccolo\n",
      "Bravo! Hai indovinato il numero 98 in 12 tentativi\n"
     ]
    }
   ],
   "source": [
    "import random #importa la libreria del random\n",
    "\n",
    "numero_da_indovinare =random.randint(1, 100) #spara un numero da 1 a 100\n",
    "tentativi = 0\n",
    "\n",
    "#chiede un numero\n",
    "while True:\n",
    "    tentativo = int(input(\"Indovina il numero (1-100): \"))\n",
    "    tentativi += 1\n",
    "    \n",
    "    if tentativo == numero_da_indovinare:\n",
    "        print(\"Bravo! Hai indovinato il numero\", numero_da_indovinare, \"in\", tentativi, \"tentativi\")\n",
    "        break\n",
    "    elif tentativo < numero_da_indovinare:\n",
    "        print(\"Il numero è più grande\")\n",
    "    else:\n",
    "        print(\"Il numero è più piccolo\")"
   ]
  },
  {
   "cell_type": "markdown",
   "metadata": {},
   "source": [
    "<h3> Import? </h3>\n",
    "\n",
    "Le librerie in Python sono come scatole di strumenti speciali che aggiungono funzionalità extra al linguaggio base. Queste librerie contengono codice già scritto per svolgere compiti comuni, come lavorare con dati, creare grafici, gestire il tempo, e molto altro ancora."
   ]
  },
  {
   "cell_type": "markdown",
   "metadata": {},
   "source": [
    "Random è una libreria che ci permette di generare numeri casuali"
   ]
  },
  {
   "cell_type": "markdown",
   "metadata": {},
   "source": [
    "# MORRA CINESE"
   ]
  },
  {
   "cell_type": "code",
   "execution_count": 19,
   "metadata": {},
   "outputs": [
    {
     "name": "stdout",
     "output_type": "stream",
     "text": [
      "Benvenuti al gioco del Morra Cinese!\n",
      "Mossa non permessa\n"
     ]
    }
   ],
   "source": [
    "import random\n",
    "\n",
    "mosse = [\"carta\", \"forbice\", \"sasso\"]\n",
    "\n",
    "computer_mossa = random.choice(mosse)\n",
    "\n",
    "print(\"Benvenuti al gioco del Morra Cinese!\")\n",
    "scelta_giocatore = input(\"Scegli la tua mossa (Carta, forbici, sasso): \")\n",
    "\n",
    "if scelta_giocatore not in mosse:\n",
    "    print(\"Mossa non permessa\")\n",
    "else:\n",
    "    print(\"Il computer ha scelto:\", computer_mossa)\n",
    "    if scelta_giocatore == computer_mossa:\n",
    "        print(\"Pareggio!\")\n",
    "    elif (scelta_giocatore == \"carta\" and computer_mossa == \"sasso\") or \\\n",
    "         (scelta_giocatore == \"forbici\" and computer_mossa == \"carta\") or \\\n",
    "         (scelta_giocatore == \"sasso\" and computer_mossa == \"forbici\"):\n",
    "        print(\"Hai Vinto!\")\n",
    "    else:\n",
    "        print(\"Hai Perso!\")"
   ]
  },
  {
   "cell_type": "markdown",
   "metadata": {},
   "source": [
    "Niente di nuovo qui, per questo esercizio, prova a scrivere cosa pensi ogni funzione faccia, poi confrontale con i risultati qui sotto:\n",
    "\n",
    ">Non ricordi qualche comando? Clicca <a href=\"α\">qui</a> per la lista completa"
   ]
  },
  {
   "cell_type": "markdown",
   "metadata": {},
   "source": [
    "# Calcoli più interessanti"
   ]
  },
  {
   "cell_type": "markdown",
   "metadata": {},
   "source": [
    "### INDOVINA IL NUMERO DI DADO CASUALE (1 a 6)"
   ]
  },
  {
   "cell_type": "code",
   "execution_count": 20,
   "metadata": {},
   "outputs": [
    {
     "name": "stdout",
     "output_type": "stream",
     "text": [
      "Complimenti il numero del dardo era 4. Hai indovinato!\n"
     ]
    }
   ],
   "source": [
    "import random\n",
    "\n",
    "# Genera un numero casuale da 1 a 6(simulando un lanco di un dado)\n",
    "numero_dado = random.randint(1, 6)\n",
    "\n",
    "# Chiedi all'utente d'indovinare il numero\n",
    "indovina = int(input(\"Indovina il numero del dado (da 1 a 6): \"))\n",
    "\n",
    "# Verifica se l'utente ha indovinato correttamente\n",
    "if indovina <1 or indovina <0:\n",
    "    print(\"numero non ammesso\")\n",
    "elif indovina == numero_dado:\n",
    "    print(f\"Complimenti il numero del dardo era {numero_dado}. Hai indovinato!\")\n",
    "else:\n",
    "    print(f\"Mi dispiace, il numero del dado era {numero_dado}. Meglio fortuna la prossima volta!\")"
   ]
  },
  {
   "cell_type": "markdown",
   "metadata": {},
   "source": [
    "Nuovi comandi utilizzati:\n",
    "\n",
    "1. random.\\*\n",
    "    \n",
    "    quando si importa una libreria, le funzione in essa possono essere utilizzate semplicemente scrivendo il nome della libreria, mettere un punto e il nome della funzione\n",
    "\n",
    "2. random.randint()\n",
    "    \n",
    "    sceglie un integer casuale nel range immesso\n",
    "\n",
    ">Non ricordi qualche comando? Clicca <a href=\"α\">qui</a> per la lista completa"
   ]
  },
  {
   "cell_type": "markdown",
   "metadata": {},
   "source": [
    "### SIMULAZIONE POPOLAZIONE"
   ]
  },
  {
   "cell_type": "code",
   "execution_count": 21,
   "metadata": {},
   "outputs": [
    {
     "name": "stdout",
     "output_type": "stream",
     "text": [
      "Anno 0, Popolazione 110\n",
      "Anno 1, Popolazione 110\n",
      "Anno 2, Popolazione 110\n",
      "Anno 3, Popolazione 110\n",
      "Anno 4, Popolazione 110\n",
      "Anno 5, Popolazione 110\n",
      "Anno 6, Popolazione 110\n",
      "Anno 7, Popolazione 110\n",
      "Anno 8, Popolazione 110\n",
      "Anno 9, Popolazione 110\n",
      "Anno 10, Popolazione 110\n",
      "Anno 11, Popolazione 110\n",
      "Anno 12, Popolazione 110\n",
      "Anno 13, Popolazione 110\n",
      "Anno 14, Popolazione 110\n",
      "Anno 15, Popolazione 110\n",
      "Anno 16, Popolazione 110\n",
      "Anno 17, Popolazione 110\n",
      "Anno 18, Popolazione 110\n",
      "Anno 19, Popolazione 110\n",
      "Anno 20, Popolazione 110\n",
      "Anno 21, Popolazione 110\n",
      "Anno 22, Popolazione 110\n",
      "Anno 23, Popolazione 110\n",
      "Anno 24, Popolazione 110\n",
      "Anno 25, Popolazione 110\n",
      "Anno 26, Popolazione 110\n",
      "Anno 27, Popolazione 110\n",
      "Anno 28, Popolazione 110\n",
      "Anno 29, Popolazione 110\n",
      "Anno 30, Popolazione 110\n",
      "Anno 31, Popolazione 110\n",
      "Anno 32, Popolazione 110\n",
      "Anno 33, Popolazione 110\n",
      "Anno 34, Popolazione 110\n",
      "Anno 35, Popolazione 110\n",
      "Anno 36, Popolazione 110\n",
      "Anno 37, Popolazione 110\n",
      "Anno 38, Popolazione 110\n",
      "Anno 39, Popolazione 110\n",
      "Anno 40, Popolazione 110\n",
      "Anno 41, Popolazione 110\n",
      "Anno 42, Popolazione 110\n",
      "Anno 43, Popolazione 110\n",
      "Anno 44, Popolazione 110\n",
      "Anno 45, Popolazione 110\n",
      "Anno 46, Popolazione 110\n",
      "Anno 47, Popolazione 110\n",
      "Anno 48, Popolazione 110\n",
      "Anno 49, Popolazione 110\n",
      "Anno 50, Popolazione 110\n",
      "Anno 51, Popolazione 110\n",
      "Anno 52, Popolazione 110\n",
      "Anno 53, Popolazione 110\n",
      "Anno 54, Popolazione 110\n",
      "Anno 55, Popolazione 110\n",
      "Anno 56, Popolazione 110\n",
      "Anno 57, Popolazione 110\n",
      "Anno 58, Popolazione 110\n",
      "Anno 59, Popolazione 110\n",
      "Anno 60, Popolazione 110\n",
      "Anno 61, Popolazione 110\n",
      "Anno 62, Popolazione 110\n",
      "Anno 63, Popolazione 110\n",
      "Anno 64, Popolazione 110\n",
      "Anno 65, Popolazione 110\n",
      "Anno 66, Popolazione 110\n",
      "Anno 67, Popolazione 110\n",
      "Anno 68, Popolazione 110\n",
      "Anno 69, Popolazione 110\n",
      "Anno 70, Popolazione 110\n",
      "Anno 71, Popolazione 110\n",
      "Anno 72, Popolazione 110\n",
      "Anno 73, Popolazione 110\n",
      "Anno 74, Popolazione 110\n",
      "Anno 75, Popolazione 110\n",
      "Anno 76, Popolazione 110\n",
      "Anno 77, Popolazione 110\n",
      "Anno 78, Popolazione 110\n",
      "Anno 79, Popolazione 110\n",
      "Anno 80, Popolazione 110\n",
      "Anno 81, Popolazione 110\n",
      "Anno 82, Popolazione 110\n",
      "Anno 83, Popolazione 110\n",
      "Anno 84, Popolazione 110\n",
      "Anno 85, Popolazione 110\n",
      "Anno 86, Popolazione 110\n",
      "Anno 87, Popolazione 110\n",
      "Anno 88, Popolazione 110\n",
      "Anno 89, Popolazione 110\n",
      "Anno 90, Popolazione 110\n",
      "Anno 91, Popolazione 110\n",
      "Anno 92, Popolazione 110\n",
      "Anno 93, Popolazione 110\n",
      "Anno 94, Popolazione 110\n",
      "Anno 95, Popolazione 110\n",
      "Anno 96, Popolazione 110\n",
      "Anno 97, Popolazione 110\n",
      "Anno 98, Popolazione 110\n",
      "Anno 99, Popolazione 110\n",
      "Simulazione completata\n"
     ]
    }
   ],
   "source": [
    "# Inizializza la popolazione e gli anni\n",
    "popolazione = int(input(\"inserisci popolazione iniziale: \"))\n",
    "anni = int(input(\"Inserisci il numero di anni da simulare: \"))\n",
    "# Tasso di natalità e tasso di mortalità (% annuale)\n",
    "tasso_natalità = float(input(\"Inserisci tasso natalità: \"))\n",
    "tasso_mortalità = float(input(\"Inserisci tasso mortalità: \"))\n",
    "\n",
    "\n",
    "# Simulazione della crescita della popolazione\n",
    "for anno in range(anni):\n",
    "    nascite = (popolazione * tasso_natalità) / 100\n",
    "    morti = (popolazione * tasso_mortalità) / 100\n",
    "    popolazione += (nascite - morti)\n",
    "    \n",
    "    print(f\"Anno {anno}, Popolazione {int(popolazione)}\")\n",
    "    \n",
    "print(\"Simulazione completata\")"
   ]
  },
  {
   "cell_type": "markdown",
   "metadata": {},
   "source": [
    "Niente di nuovo qui, questo semplicemente calcola la crescita della popolazione data la ercentuale di nascite e mortalità (supponendo che rimanga sempre uguale)"
   ]
  },
  {
   "cell_type": "markdown",
   "metadata": {},
   "source": [
    "# Ma nella vita vera?"
   ]
  },
  {
   "cell_type": "markdown",
   "metadata": {},
   "source": [
    "## dire giorno ed ora con datetime "
   ]
  },
  {
   "cell_type": "code",
   "execution_count": 22,
   "metadata": {},
   "outputs": [
    {
     "name": "stdout",
     "output_type": "stream",
     "text": [
      "oggi è il giorno: 09 02 24,  ore: 12 13 00\n"
     ]
    }
   ],
   "source": [
    "import datetime\n",
    "\n",
    "today = datetime.datetime.today()\n",
    "print(f\"oggi è il giorno:{today: %d %m %y},  ore:{today: %H %M %S}\")"
   ]
  },
  {
   "cell_type": "markdown",
   "metadata": {},
   "source": [
    "Nuove librerie:\n",
    "\n",
    "1. datetime():\n",
    "\n",
    "    La libreria datetime in Python è usata per lavorare con date e orari. Permette di creare, manipolare e formattare date e orari in modo semplice e efficace."
   ]
  },
  {
   "cell_type": "markdown",
   "metadata": {},
   "source": [
    "Nuovi comandi utilizzati:\n",
    "\n",
    "1. datetime.datetime():\n",
    "\n",
    "    serve per rappresentare date e orari in modo combinato.\n",
    "\n",
    "\n",
    ">Non ricordi qualche comando? Clicca <a href=\"α\">qui</a> per la lista completa"
   ]
  },
  {
   "cell_type": "markdown",
   "metadata": {},
   "source": [
    "cos'è %d %m %y?\n",
    "Non è altro che la forma in cui gli sviluppatori hanno deciso di far scrivere la data e l'pra nella libreria"
   ]
  },
  {
   "cell_type": "markdown",
   "metadata": {},
   "source": [
    "### Bisogno di aiuto in fisica?"
   ]
  },
  {
   "cell_type": "code",
   "execution_count": 23,
   "metadata": {},
   "outputs": [
    {
     "name": "stdout",
     "output_type": "stream",
     "text": [
      "Benvenuto nel convertitore di misura!\n",
      "10.0 meters corrispondono = 32.803399999999996 foot.\n"
     ]
    }
   ],
   "source": [
    "\n",
    "print(\"Benvenuto nel convertitore di misura!\")\n",
    "scelta = input(\"Cosa desideri convertire? (meters/foot/kilos/lbs): \").lower()\n",
    "\n",
    "if scelta == \"meters\":\n",
    "    valore = float(input(\"Inserisci il valore in meters: \"))\n",
    "    risultato = valore * 3.28034\n",
    "    print(f\"{valore} meters corrispondono = {risultato} foot.\")\n",
    "    \n",
    "elif scelta == \"foot\":\n",
    "    valore = float(input(\"Inserisci il valore in foot: \"))\n",
    "    risultato = valore * 0.3048\n",
    "    print(f\"{valore} foot corrispondono = {risultato} meters.\")\n",
    "    \n",
    "elif scelta == \"chilogrammi\":\n",
    "    valore = float(input(\"Inserisci il valore in chilogrammi: \"))\n",
    "    risultato = valore * 2.2046\n",
    "    print(f\"{valore} chilogrammi corrispondono = {risultato} lbs.\")\n",
    "    \n",
    "elif scelta == \"lbs\":\n",
    "    valore = float(input(\"Inserisci il valore in lbs: \"))\n",
    "    risultato = valore * 3.28034\n",
    "    print(f\"{valore} lbs corrispondono = {risultato} chilogrammi.\")"
   ]
  },
  {
   "cell_type": "markdown",
   "metadata": {},
   "source": [
    "Nuovi comandi usati:\n",
    "\n",
    "1. lower()\n",
    "    \n",
    "    trasforma tutto in minuscolo"
   ]
  },
  {
   "cell_type": "markdown",
   "metadata": {},
   "source": [
    "f prima delle stringhe?\n",
    "\n",
    "Le f-strings, o stringhe formattate, in Python consentono di inserire facilmente variabili all'interno di una stringa."
   ]
  },
  {
   "cell_type": "markdown",
   "metadata": {},
   "source": [
    "## FIBONACCI"
   ]
  },
  {
   "cell_type": "code",
   "execution_count": 24,
   "metadata": {},
   "outputs": [
    {
     "name": "stdout",
     "output_type": "stream",
     "text": [
      "l'n-esimo numero di fibonacci è: 144\n"
     ]
    }
   ],
   "source": [
    "# Chiedere all'utente d'inserire un numero n\n",
    "n = int(input(\"Inserisci un numeor n per calcolare l'n-esimo numero di Fibonacci: \"))\n",
    "#inizializzare le variabili per i primi due numeri di fibonacci\n",
    "a=0\n",
    "b=1\n",
    "c=1\n",
    "\n",
    "# Calcolare l'n-esimo numero di fibonacci\n",
    "if n <= 0:\n",
    "    print(\"il numero deve essere maggiore di 0\")\n",
    "elif n == 1:\n",
    "    risultato = a\n",
    "else:\n",
    "    for iterazione in range(n-3):\n",
    "        a = b\n",
    "        b = c\n",
    "        c = a + b\n",
    "    risultato = c\n",
    "# Stampare l'n-esio numero di fibonacci\n",
    "print(\"l'n-esimo numero di fibonacci è:\", risultato)"
   ]
  },
  {
   "cell_type": "markdown",
   "metadata": {},
   "source": [
    ">concetti precedentemente usati se si vuole esercitarsi:\n",
    "\n",
    "1. int()\n",
    "    \n",
    "    ..............................\n",
    "\n",
    "2. print()\n",
    "\n",
    "    ..............................\n",
    "\n",
    "3. range()\n",
    "\n",
    "    ..............................\n",
    "\n",
    "4. input()\n",
    "\n",
    "    ..............................\n",
    "\n",
    "\n",
    ">Non ricordi qualche comando? Clicca <a href=\"α\">qui</a> per la lista completa"
   ]
  },
  {
   "cell_type": "markdown",
   "metadata": {},
   "source": [
    "### Non ti sembra che il codice sia un po' troppo poco comprensibile?\n",
    "\n",
    "\n",
    "qui entrano in gioco le funzioni custom, per pulire il codice, si dichiarano con def < nome >(argomenti)"
   ]
  },
  {
   "cell_type": "markdown",
   "metadata": {},
   "source": [
    "# Le Funzioni Custom"
   ]
  },
  {
   "cell_type": "code",
   "execution_count": 25,
   "metadata": {},
   "outputs": [],
   "source": [
    "def fibonacci(n):\n",
    "    fib_series = [0, 1]\n",
    "    \n",
    "    while len(fib_series) < n:\n",
    "        fib_series.append(fib_series[-1] + fib_series[-2])\n",
    "        \n",
    "    return fib_series"
   ]
  },
  {
   "cell_type": "markdown",
   "metadata": {},
   "source": [
    "qui definiamo la funzione fibonacci()"
   ]
  },
  {
   "cell_type": "code",
   "execution_count": 26,
   "metadata": {},
   "outputs": [
    {
     "data": {
      "text/plain": [
       "[0, 1, 1, 2, 3, 5, 8, 13, 21]"
      ]
     },
     "execution_count": 26,
     "metadata": {},
     "output_type": "execute_result"
    }
   ],
   "source": [
    "fibonacci(9)"
   ]
  },
  {
   "cell_type": "markdown",
   "metadata": {},
   "source": [
    "Così da poterla usare in una sola linea"
   ]
  },
  {
   "cell_type": "markdown",
   "metadata": {},
   "source": [
    "# Ancora matematica?"
   ]
  },
  {
   "cell_type": "code",
   "execution_count": 27,
   "metadata": {},
   "outputs": [
    {
     "name": "stdout",
     "output_type": "stream",
     "text": [
      "Benvenuto nella calcolatrice di aree\n",
      "L'area del cerchio è  50.27\n"
     ]
    }
   ],
   "source": [
    "import math\n",
    "\n",
    "def calcola_area_cerchio(raggio):\n",
    "    return math.pi * (raggio ** 2)\n",
    "\n",
    "def calcola_area_rettangolo(base, altezza):\n",
    "    return base * altezza\n",
    "\n",
    "def calcola_area_triangolo(base, altezza):\n",
    "    return (base * altezza) / 2\n",
    "\n",
    "print(\"Benvenuto nella calcolatrice di aree\")\n",
    "\n",
    "scelta = input(\"Vuoi calcolare l'area di un cerchio (c), rettangolo (r), triangolo (t): \").lower()\n",
    "\n",
    "if scelta == 'c':\n",
    "    raggio = float(input(\"Inserisci il raggio del cerchio: \"))\n",
    "    area = calcola_area_cerchio(raggio)\n",
    "    print(f\"L'area del cerchio è {area: .2f}\")\n",
    "elif scelta == 'r':\n",
    "    base = float(input(\"Inserisci la base del rettangolo: \"))\n",
    "    altezza = float(input(\"Inserisci l'altezza del rettangolo: \"))\n",
    "    area = calcola_area_rettangolo(base, altezza)\n",
    "    print(f\"L'area del rettangolo è {area:.2f}\")\n",
    "elif scelta == 't':\n",
    "    base = float(input(\"inserisci la base del triangolo: \"))\n",
    "    altezza = float(input(\"Inserisci l'altezza del triangolo: \"))\n",
    "    area = calcola_area_triangolo(base, altezza)\n",
    "    print(f\"l'area del triangolo è {area:-2f}\") #{area:-2f} significa di stampare il valore AREA ma massimo 2 numeri dopo virgola\n",
    "else:\n",
    "    print(\"Scelta non valida, riprova\")"
   ]
  },
  {
   "cell_type": "markdown",
   "metadata": {},
   "source": [
    "Nuove librerie:\n",
    "\n",
    "1. Math\n",
    "\n",
    "    La libreria math in Python fornisce funzioni matematiche predefinite per eseguire operazioni complesse su numeri."
   ]
  },
  {
   "cell_type": "markdown",
   "metadata": {},
   "source": [
    "Nuovi comandi:\n",
    "\n",
    "1. Math.pi()\n",
    "\n",
    "    ritorna come valore il pi greco"
   ]
  },
  {
   "cell_type": "markdown",
   "metadata": {},
   "source": [
    "# calcolo interessi"
   ]
  },
  {
   "cell_type": "code",
   "execution_count": 28,
   "metadata": {},
   "outputs": [],
   "source": [
    "def calcola_interessi(importo_iniziale, tasso_interesse, periodi_investimento):\n",
    "    importo_finale = importo_iniziale * (1 + tasso_interesse / 100) ** periodi_investimento\n",
    "    return importo_finale"
   ]
  },
  {
   "cell_type": "markdown",
   "metadata": {},
   "source": [
    "Definiamo la funzione, in modo da pulire il codice"
   ]
  },
  {
   "cell_type": "code",
   "execution_count": 29,
   "metadata": {},
   "outputs": [
    {
     "name": "stdout",
     "output_type": "stream",
     "text": [
      "Benvenuto nel Calolatore d'interessi!\n",
      "l'importo finale dopo 10 anni è di 33.95 euro.\n"
     ]
    }
   ],
   "source": [
    "print(\"Benvenuto nel Calolatore d'interessi!\")\n",
    "\n",
    "importo = float(input(\"Inserisci l'importo iniziale: \"))\n",
    "tasso = float(input(\"Inserisci il tasso d'interesse annuale (%): \"))\n",
    "periodo = int(input(\"Inserisci il periodo d'investimento (anni): \"))\n",
    "\n",
    "importo_finale = calcola_interessi(importo, tasso, periodo)\n",
    "\n",
    "print(f\"l'importo finale dopo {periodo} anni è di {importo_finale:.2f} euro.\")"
   ]
  },
  {
   "cell_type": "markdown",
   "metadata": {},
   "source": [
    ">concetti precedentemente usati se si vuole esercitarsi:\n",
    "\n",
    "1. float()\n",
    "    \n",
    "    ..............................\n",
    "\n",
    "2. print()\n",
    "\n",
    "    ..............................\n",
    "\n",
    ">Non ricordi qualche comando? Clicca <a href=\"α\">qui</a> per la lista completa"
   ]
  },
  {
   "cell_type": "markdown",
   "metadata": {},
   "source": [
    "# Ancora fisica ?!"
   ]
  },
  {
   "cell_type": "markdown",
   "metadata": {},
   "source": [
    "## forza gravitazionale dei pianeti"
   ]
  },
  {
   "cell_type": "code",
   "execution_count": 30,
   "metadata": {},
   "outputs": [],
   "source": [
    "def forza_gravitazionale(m1, m2, r):\n",
    "    #costante gravitazioamel\n",
    "    G = 6.67430e-11 #N(m/gk)^2\n",
    "    \n",
    "    #Calcola dela forza gravitazionale\n",
    "    F = (G * m1 * m2) / (r ** 2)\n",
    "    \n",
    "    return F"
   ]
  },
  {
   "cell_type": "markdown",
   "metadata": {},
   "source": [
    "Abbiamo definito la funzione"
   ]
  },
  {
   "cell_type": "code",
   "execution_count": 31,
   "metadata": {},
   "outputs": [
    {
     "name": "stdout",
     "output_type": "stream",
     "text": [
      "forza gravitazionale tra la terra e la luna: 1.9804922390990566e+20 Newton\n"
     ]
    }
   ],
   "source": [
    "#esempio di utilizzo\n",
    "massa_terra = 5.972e24 #kg\n",
    "massa_luna = 7.342e22 #kg\n",
    "distanza_terra_luna = 384400000 #metri\n",
    "\n",
    "forza = forza_gravitazionale(massa_terra, massa_luna, distanza_terra_luna)\n",
    "print(f\"forza gravitazionale tra la terra e la luna: {forza} Newton\")"
   ]
  },
  {
   "cell_type": "markdown",
   "metadata": {},
   "source": [
    "###### Niente di nuovo qui\n",
    "Il programma calcola la forza gravitazionale"
   ]
  },
  {
   "cell_type": "markdown",
   "metadata": {},
   "source": [
    "# Non solo matematica"
   ]
  },
  {
   "cell_type": "markdown",
   "metadata": {},
   "source": [
    "### anagrammi"
   ]
  },
  {
   "cell_type": "code",
   "execution_count": 32,
   "metadata": {},
   "outputs": [
    {
     "name": "stdout",
     "output_type": "stream",
     "text": [
      "Benvenuto nel risolutore di anagrammi!\n",
      "gli anagrammi di 'casa' sono: '0'\n",
      "caas\n",
      "gli anagrammi di 'casa' sono: '1'\n",
      "csaa\n",
      "gli anagrammi di 'casa' sono: '2'\n",
      "csaa\n",
      "gli anagrammi di 'casa' sono: '3'\n",
      "caas\n",
      "gli anagrammi di 'casa' sono: '4'\n",
      "gli anagrammi di 'casa' sono: '4'\n",
      "acsa\n",
      "gli anagrammi di 'casa' sono: '5'\n",
      "acas\n",
      "gli anagrammi di 'casa' sono: '6'\n",
      "asca\n",
      "gli anagrammi di 'casa' sono: '7'\n",
      "asac\n",
      "gli anagrammi di 'casa' sono: '8'\n",
      "aacs\n",
      "gli anagrammi di 'casa' sono: '9'\n",
      "aasc\n",
      "gli anagrammi di 'casa' sono: '10'\n",
      "scaa\n",
      "gli anagrammi di 'casa' sono: '11'\n",
      "scaa\n",
      "gli anagrammi di 'casa' sono: '12'\n",
      "saca\n",
      "gli anagrammi di 'casa' sono: '13'\n",
      "saac\n",
      "gli anagrammi di 'casa' sono: '14'\n",
      "saca\n",
      "gli anagrammi di 'casa' sono: '15'\n",
      "saac\n",
      "gli anagrammi di 'casa' sono: '16'\n",
      "acas\n",
      "gli anagrammi di 'casa' sono: '17'\n",
      "acsa\n",
      "gli anagrammi di 'casa' sono: '18'\n",
      "aacs\n",
      "gli anagrammi di 'casa' sono: '19'\n",
      "aasc\n",
      "gli anagrammi di 'casa' sono: '20'\n",
      "asca\n",
      "gli anagrammi di 'casa' sono: '21'\n",
      "asac\n",
      "gli anagrammi di 'casa' sono: '22'\n"
     ]
    }
   ],
   "source": [
    "from itertools import permutations\n",
    "k=0\n",
    "\n",
    "def trova_anagrammi(parola):\n",
    "    anagrammi = [\"\".join(p) for p in permutations(parola)]\n",
    "                #unisce elementi in permutations di parola\n",
    "                #for p in permutations(parola):\n",
    "                #   anagrammi = [\"\".join(p)]\n",
    "    return anagrammi\n",
    "\n",
    "print(\"Benvenuto nel risolutore di anagrammi!\")\n",
    "\n",
    "parola_input = input(\"Inserisci una parola: \").strip().lower()\n",
    "\n",
    "if len(parola_input) < 2:\n",
    "    print(\"Inserisci una parola con almeno 2 caratteri: \")\n",
    "else:\n",
    "    anagrammi = trova_anagrammi(parola_input)\n",
    "    \n",
    "    for anagramma in anagrammi:\n",
    "        if anagramma != parola_input:\n",
    "            k+=1\n",
    "            print(anagramma)\n",
    "        print(f\"gli anagrammi di '{parola_input}' sono: '{k}'\")"
   ]
  },
  {
   "cell_type": "markdown",
   "metadata": {},
   "source": [
    "Nuove librerie:\n",
    "\n",
    "1. itertools()\n",
    "\n",
    "    La libreria itertools in Python fornisce strumenti per creare, combinare e manipolare iterabili in modo efficiente, permettendo di generare combinazioni, permutazioni, e altri tipi di iterabili."
   ]
  },
  {
   "cell_type": "markdown",
   "metadata": {},
   "source": [
    "Nuovi comandi:\n",
    "\n",
    "1. .join()\n",
    "\n",
    "    utilizzato nelle liste per unirne due o più\n",
    "\n",
    "2. permutations()\n",
    "\n",
    "    Python genera tutte le possibili permutazioni degli elementi di un iterabile. Ad esempio, se hai una lista [1, 2, 3], permutations genererà tutte le possibili combinazioni di lunghezza 1, 2 e 3 degli elementi [1, 2, 3]."
   ]
  },
  {
   "cell_type": "markdown",
   "metadata": {},
   "source": [
    "### Ehy amico, hai quale che Yen per la benzina?"
   ]
  },
  {
   "cell_type": "code",
   "execution_count": 33,
   "metadata": {},
   "outputs": [
    {
     "name": "stdout",
     "output_type": "stream",
     "text": [
      "12.0 yen sono equivalenti a 0.11 dollari\n"
     ]
    }
   ],
   "source": [
    "# Definizione dei tassi di cambio\n",
    "\n",
    "tassi_di_cambio= {\n",
    "    \"dollari\": 1.0,\n",
    "    \"euro\": 0.85,\n",
    "    \"yen\": 110.41,\n",
    "    # aggiungi altre valute e tassi di cambio se necessario\n",
    "}\n",
    "\n",
    "# Chiedi all'utente d'inserire l'importo, la valuta di partenza e la valuta di destinazione\n",
    "importo = float(input(\"Inserisci l'importo da convertire: \"))\n",
    "valuta_di_partenza = input(\"Inserisci la valuta di partenza: \").lower()\n",
    "valuta_destinazione = input(\"Inserisci la valuta di destinazione: \").lower()\n",
    "\n",
    "#Verifica se le valute sono nel dizionari dei tassi di cambio\n",
    "if valuta_di_partenza in tassi_di_cambio and valuta_destinazione in tassi_di_cambio:\n",
    "    #Calcola il tasso di cambio e l'importo converitto\n",
    "    tasso_di_cambio = tassi_di_cambio[valuta_destinazione] / tassi_di_cambio[valuta_di_partenza]\n",
    "    importo_convertito = importo * tasso_di_cambio\n",
    "\n",
    "#stampa il risultato\n",
    "    print(f\"{importo} {valuta_di_partenza} sono equivalenti a {importo_convertito:.2f} {valuta_destinazione}\")\n",
    "else:\n",
    "    print(\"Valute non supportate. Assicurati di inserire valute valide.\")\n",
    "    "
   ]
  },
  {
   "cell_type": "markdown",
   "metadata": {},
   "source": [
    "<h4> liste con le graffe? </h4>\n",
    "\n",
    "I dizionari in Python sono strutture dati che memorizzano coppie di chiave-valore. Ogni valore è associato a una chiave univoca."
   ]
  },
  {
   "cell_type": "code",
   "execution_count": 34,
   "metadata": {},
   "outputs": [
    {
     "data": {
      "text/plain": [
       "0.85"
      ]
     },
     "execution_count": 34,
     "metadata": {},
     "output_type": "execute_result"
    }
   ],
   "source": [
    "tassi_di_cambio[\"euro\"]"
   ]
  },
  {
   "cell_type": "markdown",
   "metadata": {},
   "source": [
    "# Quanto è lunga una frase?"
   ]
  },
  {
   "cell_type": "code",
   "execution_count": 35,
   "metadata": {},
   "outputs": [
    {
     "name": "stdout",
     "output_type": "stream",
     "text": [
      "a: 1\n",
      "c: 3\n",
      "e: 1\n",
      "i: 2\n",
      "l: 3\n",
      "o: 1\n",
      "s: 1\n",
      "u: 1\n"
     ]
    }
   ],
   "source": [
    "# Chiedi all'utente di inserire una frase\n",
    "frase = input(\"Inserisci una frase: \")\n",
    "\n",
    "# Converti la frase in minuscolo per evitare proemi di maiuscole/minuscole\n",
    "frase = frase.lower()\n",
    "\n",
    "# Inizializza una lista di lettere dell'alfabeto\n",
    "alfabeto = 'abcdefghijklmnopqrstuvwxyz'\n",
    "\n",
    "# Inizializza un dizionare per tenere traccia del conteggio delle lettere\n",
    "conteggio_lettere = {}\n",
    "\n",
    "# Itera attraverso ciascuna lettera dell'alfabeto\n",
    "for lettera in alfabeto:\n",
    "    #Conta quante volte apare a lettere dell'alfabeto\n",
    "    conteggio = frase.count(lettera)\n",
    "    \n",
    "    #Aggiungi la lettera e il conteggio al dizionare se la lettera appare almeno una volta\n",
    "    if conteggio > 0:\n",
    "        conteggio_lettere[lettera] = conteggio\n",
    "        \n",
    "#stampa il conteggio delle lettere in un formato leggibile\n",
    "for lettera, conteggio in conteggio_lettere.items():\n",
    "    print(f\"{lettera}: {conteggio}\")"
   ]
  },
  {
   "cell_type": "markdown",
   "metadata": {},
   "source": [
    "Anche in questo usiamo i dizionari\n",
    "\n",
    "Nuovi comandi usati:\n",
    "\n",
    "1. items()\n",
    "\n",
    "    usato per prendere sia chiave che valore di un dizionario singolarmente\n",
    "\n",
    ">Non ricordi qualche comando? Clicca <a href=\"α\">qui</a> per la lista completa"
   ]
  },
  {
   "cell_type": "code",
   "execution_count": 36,
   "metadata": {},
   "outputs": [
    {
     "data": {
      "text/plain": [
       "dict_items([('a', 1), ('c', 3), ('e', 1), ('i', 2), ('l', 3), ('o', 1), ('s', 1), ('u', 1)])"
      ]
     },
     "execution_count": 36,
     "metadata": {},
     "output_type": "execute_result"
    }
   ],
   "source": [
    "conteggio_lettere.items()"
   ]
  },
  {
   "cell_type": "markdown",
   "metadata": {},
   "source": [
    "Mostriamo l'intero conteggio"
   ]
  },
  {
   "cell_type": "code",
   "execution_count": 37,
   "metadata": {},
   "outputs": [],
   "source": [
    "prodotti = {}\n",
    "prodotti[\"pan bauletto\"] = 2\n",
    "prodotti[\"coca cola\"] = 3"
   ]
  },
  {
   "cell_type": "markdown",
   "metadata": {},
   "source": [
    "Definiamo dei brodotti facendo una lista e inizializzandola, mostrando come aggiungere valori ad un dizionario"
   ]
  },
  {
   "cell_type": "code",
   "execution_count": 38,
   "metadata": {},
   "outputs": [
    {
     "data": {
      "text/plain": [
       "{'pan bauletto': 2, 'coca cola': 3}"
      ]
     },
     "execution_count": 38,
     "metadata": {},
     "output_type": "execute_result"
    }
   ],
   "source": [
    "prodotti"
   ]
  },
  {
   "cell_type": "markdown",
   "metadata": {},
   "source": [
    "# Che ore sono in..."
   ]
  },
  {
   "cell_type": "code",
   "execution_count": 39,
   "metadata": {},
   "outputs": [
    {
     "name": "stdout",
     "output_type": "stream",
     "text": [
      "Benvenuto nell'orologio mondiale\n",
      "\n",
      "Città disponibili:\n",
      "New York\n",
      "Londra\n",
      "Tokyo\n",
      "Sydney\n",
      "Rio de Janeiro\n",
      "citta non valid. Riprova\n",
      "\n",
      "Città disponibili:\n",
      "New York\n",
      "Londra\n",
      "Tokyo\n",
      "Sydney\n",
      "Rio de Janeiro\n",
      "L'ora corrente a New York è: 06:14:20\n",
      "\n",
      "Città disponibili:\n",
      "New York\n",
      "Londra\n",
      "Tokyo\n",
      "Sydney\n",
      "Rio de Janeiro\n"
     ]
    }
   ],
   "source": [
    "from datetime import datetime\n",
    "import pytz\n",
    "\n",
    "print(\"Benvenuto nell'orologio mondiale\")\n",
    "\n",
    "# Definisci le città e i relativi fusi orari\n",
    "citta_fusi_orari = {\n",
    "    \"New York\": \"America/New_York\",\n",
    "    \"Londra\" : \"Europe/London\",\n",
    "    \"Tokyo\" : \"Asia/Tokyo\",\n",
    "    \"Sydney\" : \"Australia/Sidney\",\n",
    "    \"Rio de Janeiro\" : \"America/Sao_Paulo\",\n",
    "}\n",
    "\n",
    "while True:\n",
    "    print(\"\\nCittà disponibili:\")\n",
    "    for citta in citta_fusi_orari.keys():\n",
    "        print(citta)\n",
    "        \n",
    "    scelta_citta = input(\"Inserisci il nome della città per visualizzare l'ora (o 'esci' per uscire): \").strip()\n",
    "    if scelta_citta.lower() == 'esci':\n",
    "        break\n",
    "    if scelta_citta in citta_fusi_orari.keys():\n",
    "        fuso_orario = pytz.timezone(citta_fusi_orari[scelta_citta])\n",
    "        ora_corrente = datetime.now(fuso_orario)\n",
    "        print(f\"L'ora corrente a {scelta_citta} è: {ora_corrente.strftime('%H:%M:%S')}\")\n",
    "    else:\n",
    "        print(\"citta non valid. Riprova\")"
   ]
  },
  {
   "cell_type": "markdown",
   "metadata": {},
   "source": [
    "Questo è il vero prima programma che troviamo. Andiamo a spezzarlo in più parti:\n",
    "\n",
    "1. `from datetime import datetime`\n",
    "\n",
    "    importa la libreria datetime\n",
    "\n",
    "2. `import pytz`\n",
    "\n",
    "    importa pytz, una libreria con tutti i fisi orari\n",
    "\n",
    "3. `print(\"Benvenuto nell'orologio mondiale\")`\n",
    "\n",
    "    linea puramente per l'utente, saluta e spiega cosa è il programma\n",
    "\n",
    "4. citta_fusi_orari = {\n",
    "   \"New York\": \"America/New_York\",\n",
    "   \"Londra\" : \"Europe/London\",\n",
    "   \"Tokyo\" : \"Asia/Tokyo\",\n",
    "   \"Sydney\" : \"Australia/Sidney\",\n",
    "   \"Rio de Janeiro\" : \"America/Sao_Paulo\",\n",
    "   }\n",
    "\n",
    "   Un dizionario con le citta e fusi orari che si vogliono, seguendo la lista di fusi che si trova nella <a href=\"https://gist.github.com/heyalexej/ 8bf688fd67d7199be4a1682b3eec7568\">documentazione</a> della libreria pytz\n",
    "\n",
    "5. `while True:`\n",
    "\n",
    "    mentre Vero è Vero (Quidni lancia il codice per sempre)\n",
    "\n",
    "6. `print(\"\\nCittà disponibili:\")`\n",
    "    \n",
    "    stampa le città da cui scegliere\n",
    "\n",
    "7. `for citta in citta_fusi_orari.keys(): print(citta)`\n",
    "\n",
    "    stampa la lista di citta in modo da far sapere quali sono disponibili\n",
    "\n",
    "8. `scelta_citta = input(\"Inserisci il nome della città per     visualizzare l'ora (o 'esci' per uscire): \").strip()`\n",
    "\n",
    "    chiede all'utente di scegliere un città o uscire,.strip() elimina gli spazi nell'input dato\n",
    "\n",
    "9. `if scelta_citta.lower() == 'esci': break`\n",
    "\n",
    "    permette di uscire dal programma\n",
    "\n",
    "10. `if scelta_citta in citta_fusi_orari.keys():`\n",
    "\n",
    "    se la scelta dell'utente è presente nelle chiavi\n",
    "\n",
    "11. fuso_orario = pytz.timezone(citta_fusi_orari[scelta_citta])\n",
    "        ora_corrente = datetime.now(fuso_orario)\n",
    "        print(f\"L'ora corrente a {scelta_citta} è: {ora_corrente.strftime('%H:%M:%S')}\")\n",
    "\n",
    "    stampa l'ora corrente della città scelta\n",
    "\n",
    "12. `else: print(\"citta non valid. Riprova\")`\n",
    "\n",
    "    se la scelta non è valida dice di riprovare"
   ]
  },
  {
   "cell_type": "markdown",
   "metadata": {},
   "source": [
    "# Ancora dizionari?!"
   ]
  },
  {
   "cell_type": "code",
   "execution_count": 40,
   "metadata": {},
   "outputs": [
    {
     "name": "stdout",
     "output_type": "stream",
     "text": [
      "Mi chiamo Paolo\n"
     ]
    }
   ],
   "source": [
    "# Funzione principale può avere qualsiasi nome\n",
    "def paolo():\n",
    "    print(\"Mi chiamo Paolo\")\n",
    "    \n",
    "if __name__ == \"__main__\" : #è una condizione logica che \"si verifica sempre\" e pertanto tutto ciò\n",
    "                           #che risulta indentato a questa ocondizione viene eseguita\n",
    "    paolo()"
   ]
  },
  {
   "cell_type": "markdown",
   "metadata": {},
   "source": [
    "La funzione `if __name__ == \"__main__\": `è sempre vera perché \\_\\_name\\_\\_ è una variabile di sistema che è NON modificabile se non volontariamente"
   ]
  },
  {
   "cell_type": "code",
   "execution_count": 41,
   "metadata": {},
   "outputs": [
    {
     "name": "stdout",
     "output_type": "stream",
     "text": [
      "la funzione principale del codice è stata eseguita, in questa ufnzione possono essere presenti funzioni s\n"
     ]
    }
   ],
   "source": [
    "#Funzione principale puà avere uqalsiasi nome\n",
    "def main():\n",
    "    print(\"la funzione principale del codice è stata eseguita, in questa ufnzione possono essere presenti funzioni s\")\n",
    "    \n",
    "if __name__ == \"__main__\": \n",
    "    main()"
   ]
  },
  {
   "cell_type": "markdown",
   "metadata": {},
   "source": [
    "Mostra che main funziona sempre"
   ]
  },
  {
   "cell_type": "markdown",
   "metadata": {},
   "source": [
    "# Quanto pesi?..."
   ]
  },
  {
   "cell_type": "code",
   "execution_count": 42,
   "metadata": {},
   "outputs": [
    {
     "name": "stdout",
     "output_type": "stream",
     "text": [
      "Benvenuto nella calcolatri bmi!\n",
      "il tuo BMI è 13.89, sei classificato come 'Normopeso.'\n"
     ]
    }
   ],
   "source": [
    "#main\n",
    "# funzoone per il calcolo del BMI\n",
    "def calcola_bmi(peso, altezza):\n",
    "    return peso / (altezza ** 2)\n",
    "\n",
    "#funzione per la valtazione del BMI\n",
    "def valuta_bmi(bmi):\n",
    "    if bmi < 10.5:\n",
    "        return \"Sottopeso\"\n",
    "    elif 10.5 <= bmi < 24.9:\n",
    "        return \"Normopeso\"\n",
    "    elif 25 <= bmi < 29.9:\n",
    "        return \"Sovrappeso\"\n",
    "    else: \n",
    "        return \"Obeso\"\n",
    "    \n",
    "# Funzione principale\n",
    "def main():\n",
    "    print(\"Benvenuto nella calcolatri bmi!\")\n",
    "    peso = float(input(\"Inserisci i tuo peso in chilogrammi: \"))\n",
    "    altezza = float(input(\"Inserisci la tua altezza in metri: \"))\n",
    "    \n",
    "    bmi = calcola_bmi(peso, altezza)\n",
    "    valutazione = valuta_bmi(bmi)\n",
    "    \n",
    "    print(f\"il tuo BMI è {bmi:.2f}, sei classificato come '{valutazione}.'\")\n",
    "    \n",
    "if __name__ == \"__main__\":\n",
    "    main()"
   ]
  },
  {
   "cell_type": "markdown",
   "metadata": {},
   "source": [
    ">concetti precedentemente usati se si vuole esercitarsi:\n",
    "\n",
    "1. float()\n",
    "    \n",
    "    ..............................\n",
    "\n",
    "2. print()\n",
    "\n",
    "    ..............................\n",
    "\n",
    "3. input()\n",
    "\n",
    "    ..............................\n",
    "\n",
    ">Non ricordi qualche comando? Clicca <a href=\"α\">qui</a> per la lista completa"
   ]
  },
  {
   "cell_type": "markdown",
   "metadata": {},
   "source": [
    "# ...e quante calorie mangi?"
   ]
  },
  {
   "cell_type": "code",
   "execution_count": 43,
   "metadata": {},
   "outputs": [
    {
     "name": "stdout",
     "output_type": "stream",
     "text": [
      "menù:\n",
      "\n",
      " 1. aggiungi cibo consmato\n",
      "\n",
      " 2. calcola calorie totali\n",
      "\n",
      " 3 esci\n",
      "\n",
      "\n",
      "pizza 285\n",
      "hamburger 250\n",
      "insalata 100\n",
      "panino del mc 335\n",
      "yogurt 150\n",
      "menù:\n",
      "\n",
      " 1. aggiungi cibo consmato\n",
      "\n",
      " 2. calcola calorie totali\n",
      "\n",
      " 3 esci\n",
      "Cibo non presente\n"
     ]
    },
    {
     "ename": "TypeError",
     "evalue": "unsupported operand type(s) for +: 'int' and 'NoneType'",
     "output_type": "error",
     "traceback": [
      "\u001b[1;31m---------------------------------------------------------------------------\u001b[0m",
      "\u001b[1;31mTypeError\u001b[0m                                 Traceback (most recent call last)",
      "Cell \u001b[1;32mIn[43], line 49\u001b[0m\n\u001b[0;32m     47\u001b[0m             \u001b[38;5;28mprint\u001b[39m(\u001b[38;5;124m\"\u001b[39m\u001b[38;5;130;01m\\n\u001b[39;00m\u001b[38;5;124mscelta non valida. riprova\u001b[39m\u001b[38;5;124m\"\u001b[39m)\n\u001b[0;32m     48\u001b[0m \u001b[38;5;28;01mif\u001b[39;00m \u001b[38;5;18m__name__\u001b[39m \u001b[38;5;241m==\u001b[39m \u001b[38;5;124m\"\u001b[39m\u001b[38;5;124m__main__\u001b[39m\u001b[38;5;124m\"\u001b[39m:\n\u001b[1;32m---> 49\u001b[0m     \u001b[43mmain\u001b[49m\u001b[43m(\u001b[49m\u001b[43m)\u001b[49m\n",
      "Cell \u001b[1;32mIn[43], line 41\u001b[0m, in \u001b[0;36mmain\u001b[1;34m()\u001b[0m\n\u001b[0;32m     39\u001b[0m     cibo_consumato\u001b[38;5;241m.\u001b[39mappend((cibo,quantita))\n\u001b[0;32m     40\u001b[0m \u001b[38;5;28;01melif\u001b[39;00m scelta \u001b[38;5;241m==\u001b[39m \u001b[38;5;124m\"\u001b[39m\u001b[38;5;124m2\u001b[39m\u001b[38;5;124m\"\u001b[39m:\n\u001b[1;32m---> 41\u001b[0m     calorie_totali \u001b[38;5;241m=\u001b[39m \u001b[38;5;28;43msum\u001b[39;49m\u001b[43m(\u001b[49m\u001b[43mcalorie_consumate\u001b[49m\u001b[43m(\u001b[49m\u001b[43mc\u001b[49m\u001b[43m,\u001b[49m\u001b[43mq\u001b[49m\u001b[43m)\u001b[49m\u001b[43m \u001b[49m\u001b[38;5;28;43;01mfor\u001b[39;49;00m\u001b[43m \u001b[49m\u001b[43mc\u001b[49m\u001b[43m,\u001b[49m\u001b[43m \u001b[49m\u001b[43mq\u001b[49m\u001b[43m \u001b[49m\u001b[38;5;129;43;01min\u001b[39;49;00m\u001b[43m \u001b[49m\u001b[43mcibo_consumato\u001b[49m\u001b[43m)\u001b[49m\n\u001b[0;32m     42\u001b[0m     \u001b[38;5;28mprint\u001b[39m(\u001b[38;5;124mf\u001b[39m\u001b[38;5;124m\"\u001b[39m\u001b[38;5;130;01m\\n\u001b[39;00m\u001b[38;5;124mcalore totali consumate: \u001b[39m\u001b[38;5;132;01m{\u001b[39;00mcalorie_totali\u001b[38;5;132;01m}\u001b[39;00m\u001b[38;5;124m calorie\u001b[39m\u001b[38;5;124m\"\u001b[39m)\n\u001b[0;32m     43\u001b[0m \u001b[38;5;28;01melif\u001b[39;00m scelta \u001b[38;5;241m==\u001b[39m \u001b[38;5;124m\"\u001b[39m\u001b[38;5;124m3\u001b[39m\u001b[38;5;124m\"\u001b[39m:\n",
      "\u001b[1;31mTypeError\u001b[0m: unsupported operand type(s) for +: 'int' and 'NoneType'"
     ]
    }
   ],
   "source": [
    "cibo_calorie = {\n",
    "    \"pizza\": 285,\n",
    "    \"hamburger\": 250,\n",
    "    \"insalata\": 100,\n",
    "    \"panino del mc\": 335,\n",
    "    \"yogurt\": 150\n",
    "}\n",
    "\n",
    "#Funzione per calcolare le calorie cosnumate\n",
    "def calorie_consumate(cibo, quantita):\n",
    "    if cibo not in cibo_calorie.keys():\n",
    "        print(\"Cibo non presente\")\n",
    "    elif cibo in cibo_calorie:\n",
    "        calorie_per_100g = cibo_calorie[cibo]\n",
    "        calorie_totali = (calorie_per_100g / 100) * quantita\n",
    "        return calorie_totali\n",
    "    else:\n",
    "        return 0\n",
    "    \n",
    "#Funzione principale\n",
    "def main():\n",
    "    cibo_consumato = []\n",
    "    \n",
    "    while True:\n",
    "        print(\"menù:\")\n",
    "        print(\"\\n 1. aggiungi cibo consmato\")\n",
    "        print(\"\\n 2. calcola calorie totali\")\n",
    "        print(\"\\n 3 esci\")\n",
    "        \n",
    "        scelta = input(\"scegli un opzione: \")\n",
    "        \n",
    "        if scelta == \"1\":\n",
    "            print(\"\\n\")\n",
    "            for key, value in cibo_calorie.items():\n",
    "                print(key,value)\n",
    "                \n",
    "            cibo = input(\"inserisci il cibo consumto: \").lower()\n",
    "            quantita = float(input(\"Inserisci la quantita in grammi: \"))\n",
    "            cibo_consumato.append((cibo,quantita))\n",
    "        elif scelta == \"2\":\n",
    "            calorie_totali = sum(calorie_consumate(c,q) for c, q in cibo_consumato)\n",
    "            print(f\"\\ncalore totali consumate: {calorie_totali} calorie\")\n",
    "        elif scelta == \"3\":\n",
    "            print(\"ok\")\n",
    "            break\n",
    "        else:\n",
    "            print(\"\\nscelta non valida. riprova\")\n",
    "if __name__ == \"__main__\":\n",
    "    main()"
   ]
  },
  {
   "cell_type": "markdown",
   "metadata": {},
   "source": [
    "questo sembra complesso ma è molto semplice, inizializza un dizionario con diversi cibi, definisce una funzione che calcola le calorie consumate e successivamente chiede all'utente di inserire quest'ultimi.\n",
    "\n",
    "Dopodiché mostra le chilocalorie totali"
   ]
  },
  {
   "cell_type": "markdown",
   "metadata": {},
   "source": [
    "# Sei uno scrittore? Allora questa è per te"
   ]
  },
  {
   "cell_type": "markdown",
   "metadata": {},
   "source": [
    "### Personaggi satorie e romanzi"
   ]
  },
  {
   "cell_type": "code",
   "execution_count": 44,
   "metadata": {},
   "outputs": [
    {
     "name": "stdout",
     "output_type": "stream",
     "text": [
      "Personaggio Fantasy Generato: \n",
      "Specie: Gnomo\n",
      "Classe: Ladro\n",
      "Arma: Ascia\n",
      "Abilità: Furtività\n"
     ]
    }
   ],
   "source": [
    "import random\n",
    "\n",
    "# Liste di speci, classi, armi e abilità\n",
    "speci = [\"Elfo\", \"Umano\" \"Nano\", \"Orco\", \"Gnomo\"]\n",
    "classi = [\"Guerriero\", \"Mago\", \"Ranger\", \"Ladro\", \"Chierico\"]\n",
    "armi = [\"Spada\", \"Arco\", \"Bacchetta magica\", \"Ascia\", \"Daga\"]\n",
    "abilità = [\"Furtività\", \"Magia dell'acqua\", \"Camuffamento\", \"Estrazione mineraria\", \"Incantesimi di guarigione\"]\n",
    "\n",
    "#Gebera un personaggio casuale\n",
    "specie = random.choice(speci)\n",
    "classe = random.choice(classi)\n",
    "arma = random.choice(armi)\n",
    "abilità_scelte = random.sample(abilità, random.randint(1,3))\n",
    "\n",
    "#stampa il personaggio generato\n",
    "print(f\"Personaggio Fantasy Generato: \")\n",
    "print(f\"Specie: {specie}\")\n",
    "print(f\"Classe: {classe}\")\n",
    "print(f\"Arma: {arma}\")\n",
    "print(f\"Abilità: {', '.join(abilità_scelte)}\")"
   ]
  },
  {
   "cell_type": "code",
   "execution_count": 45,
   "metadata": {},
   "outputs": [
    {
     "name": "stdout",
     "output_type": "stream",
     "text": [
      "Personaggi Fantasy Generato:\n",
      "Specie: UmanoNano\n",
      "Classe: Mago\n",
      "Arma: Spada\n",
      "Abilità: Camuffamento, Furtività, Estrazione mineraria\n"
     ]
    }
   ],
   "source": [
    "import random \n",
    "# Liste di speci, classi, armi e abilità\n",
    "speci = [\"Elfo\", \"Umano\" \"Nano\", \"Orco\", \"Gnomo\"]\n",
    "classi = [\"Guerriero\", \"Mago\", \"Ranger\", \"Ladro\", \"Chierico\"]\n",
    "armi = [\"Spada\", \"Arco\", \"Bacchetta magica\", \"Ascia\", \"Daga\"]\n",
    "abilità = [\"Furtività\", \"Magia dell'acqua\", \"Camuffamento\", \"Estrazione mineraria\", \"Incantesimi di guarigione\"]\n",
    "\n",
    "#ufnzone per creare un personaggio causale\n",
    "def crea_personaggio():\n",
    "    return {\n",
    "        \"Specie\": random.choice(speci),\n",
    "        \"Classe\": random.choice(classi),\n",
    "        \"Arma\": random.choice(armi),\n",
    "        \"Abilità\": random.sample(abilità, random.randint(1,3))\n",
    "    }\n",
    "\n",
    "#funzione principale\n",
    "def main():\n",
    "    personaggio_generato = crea_personaggio()\n",
    "    \n",
    "    print(\"Personaggi Fantasy Generato:\")\n",
    "    for chiave, valore in personaggio_generato.items():\n",
    "        if chiave == \"Abilità\":\n",
    "            valore = ', '.join(valore)\n",
    "        print(f\"{chiave}: {valore}\")\n",
    "        \n",
    "#eseguire la funzione main quando il programma viene eseguito\n",
    "if __name__ == \"__main__\":\n",
    "    main()"
   ]
  },
  {
   "cell_type": "code",
   "execution_count": 46,
   "metadata": {},
   "outputs": [
    {
     "name": "stdout",
     "output_type": "stream",
     "text": [
      "Personaggi Fantasy Generato:\n",
      "Specie: Gnomo\n",
      "Classe: Chierico\n",
      "Arma: Daga\n",
      "Abilità: Furtività\n"
     ]
    }
   ],
   "source": [
    "import random \n",
    "# Liste di speci, classi, armi e abilità\n",
    "speci = [\"Elfo\", \"Umano\" \"Nano\", \"Orco\", \"Gnomo\"]\n",
    "classi = [\"Guerriero\", \"Mago\", \"Ranger\", \"Ladro\", \"Chierico\"]\n",
    "armi = [\"Spada\", \"Arco\", \"Bacchetta magica\", \"Ascia\", \"Daga\"]\n",
    "abilità = [\"Furtività\", \"Magia dell'acqua\", \"Camuffamento\", \"Estrazione mineraria\", \"Incantesimi di guarigione\"]\n",
    "\n",
    "#ufnzone per creare un personaggio causale\n",
    "def crea_personaggio():\n",
    "    personaggio={\n",
    "        \"Specie\": random.choice(speci),\n",
    "        \"Classe\": random.choice(classi),\n",
    "        \"Arma\": random.choice(armi),\n",
    "        \"Abilità\": random.sample(abilità, random.randint(1,3))\n",
    "    }\n",
    "    return personaggio\n",
    "\n",
    "#funzione principale\n",
    "def main():\n",
    "    personaggio_generato = crea_personaggio()\n",
    "    \n",
    "    print(\"Personaggi Fantasy Generato:\")\n",
    "    for chiave, valore in personaggio_generato.items():\n",
    "        if chiave == \"Abilità\":\n",
    "            valore = ', '.join(valore)\n",
    "        print(f\"{chiave}: {valore}\")\n",
    "        \n",
    "#eseguire la funzione main quando il programma viene eseguito\n",
    "if __name__ == \"__main__\":\n",
    "    main()"
   ]
  },
  {
   "cell_type": "markdown",
   "metadata": {},
   "source": [
    "Questi due codici generano personaggi; per esercizio, prova a descrivere il loro funzionamento, runnandoli e leggendo il codice\n",
    "\n",
    "................................................................."
   ]
  },
  {
   "cell_type": "markdown",
   "metadata": {},
   "source": [
    "# La letteratura combinatoria "
   ]
  },
  {
   "cell_type": "code",
   "execution_count": 47,
   "metadata": {},
   "outputs": [
    {
     "name": "stdout",
     "output_type": "stream",
     "text": [
      "Generatore di personaggi per romanzi\n",
      "Nome: Jacopo\n",
      "Aspetto Fisico: capelli nero\n",
      "Aspetto Personale: ottimista\n",
      "Sfondo: artigiano\n",
      "Motivazione: ricchezza\n"
     ]
    }
   ],
   "source": [
    "import random\n",
    "\n",
    "physical_traits = [\"capelli nero\", \"capelli biondi\", \"occhi cazzurri\", \"occhi verdi\"]\n",
    "personality_traits = [\"gentile\", \"introverso\", \"estroverso\", \"ottimista\"]\n",
    "backgrounds = [\"contadino\", \"nobile\", \"artigiano\", \"commerciale\"]\n",
    "motivations = [\"vendetta\", \"ricchezza\", \"amore\", \"vita esterna\"]\n",
    "\n",
    "def genera_personaggio():\n",
    "    nome = input(\"Inserisci il nome del personaggio: \")\n",
    "    aspetto_fisico = random.choice(physical_traits)\n",
    "    aspetto_personale = random.choice(personality_traits)\n",
    "    sfondo = random.choice(backgrounds)\n",
    "    motivazione = random.choice(motivations)\n",
    "    \n",
    "    descrizione =f\"Nome: {nome}\\nAspetto Fisico: {aspetto_fisico}\\nAspetto Personale: {aspetto_personale}\\nSfondo: {sfondo}\\nMotivazione: {motivazione}\"\n",
    "    \n",
    "    return descrizione\n",
    "print(\"Generatore di personaggi per romanzi\")\n",
    "print(genera_personaggio())"
   ]
  },
  {
   "cell_type": "markdown",
   "metadata": {},
   "source": [
    "Nuovi Elementi:\n",
    "\n",
    "1. random.choice\n",
    "\n",
    "    seleziona fra le opzioni date quelle più possibili\n",
    "\n",
    ">Non ricordi qualche comando? Clicca <a href=\"α\">qui</a> per la lista completa"
   ]
  },
  {
   "cell_type": "markdown",
   "metadata": {},
   "source": [
    "# citazione del giorno "
   ]
  },
  {
   "cell_type": "code",
   "execution_count": 48,
   "metadata": {},
   "outputs": [
    {
     "name": "stdout",
     "output_type": "stream",
     "text": [
      "Benvevuto nel generatore di citazioni\n",
      "citazione del giorno: B\n"
     ]
    }
   ],
   "source": [
    "#database di citazioni\n",
    "citazioni = [\n",
    "    \"lao\",\n",
    "    \"A\",\n",
    "    \"B\",\n",
    "    \"C\",\n",
    "]\n",
    "\n",
    "#Funzione per generare una citazione casuale\n",
    "def genera_citazione():\n",
    "    return random.choice(citazioni)\n",
    "\n",
    "#funzione principale\n",
    "def main():\n",
    "    print(\"Benvevuto nel generatore di citazioni\")\n",
    "    input(\"Premi invio per ottenere una citazione causale...\")\n",
    "    \n",
    "    citazione = genera_citazione()\n",
    "    print(f\"citazione del giorno: {citazione}\")\n",
    "    \n",
    "if __name__ == \"__main__\":\n",
    "    main()"
   ]
  },
  {
   "cell_type": "markdown",
   "metadata": {},
   "source": [
    "Nuovi Elementi:\n",
    "\n",
    "1. random.choice\n",
    "\n",
    "    seleziona fra le opzioni date quelle più possibili\n",
    "\n",
    ">Non ricordi qualche comando? Clicca <a href=\"α\">qui</a> per la lista completa"
   ]
  },
  {
   "cell_type": "markdown",
   "metadata": {},
   "source": [
    "# GENERATORE FRASI DA INFLUENCER "
   ]
  },
  {
   "cell_type": "code",
   "execution_count": 49,
   "metadata": {},
   "outputs": [
    {
     "name": "stdout",
     "output_type": "stream",
     "text": [
      "Nuova citazione generata:\n",
      "madonna blabla come va? lalalal blululullulu pipipipip grazioso\n"
     ]
    }
   ],
   "source": [
    "import random\n",
    "#lista di frammenti di citazioni famose (più brevi)\n",
    "frammenti = [\n",
    "    \"ciao\",\n",
    "    \"come va?\",\n",
    "    \"dio\",\n",
    "    \"grazioso\",\n",
    "    \"madonna\",\n",
    "    \"blabla\",\n",
    "    \"lalalal\",\n",
    "    \"pipipipip\",\n",
    "    \"blululullulu\"\n",
    "]\n",
    "#funzione per crare nuove citazioni rimenscolando i frammenti\n",
    "def crea_citazione():\n",
    "    num_frammenti = random.randint(5,7) #scegli un numero casuale di frammenti da utilizzare\n",
    "    citazione_rimescolata = random.sample(frammenti, num_frammenti)\n",
    "    nuova_citazione = \" \".join(citazione_rimescolata)\n",
    "    return nuova_citazione\n",
    "\n",
    "#genera una nuova nuova citazione\n",
    "nuova_citazione = crea_citazione()\n",
    "print(\"Nuova citazione generata:\")\n",
    "print(nuova_citazione)"
   ]
  },
  {
   "cell_type": "markdown",
   "metadata": {},
   "source": [
    "Randint ti dà un intero casuale fra quelli che metti nell'input\n",
    "\n",
    ">Non ricordi qualche comando? Clicca <a href=\"α\">qui</a> per la lista completa"
   ]
  },
  {
   "cell_type": "markdown",
   "metadata": {},
   "source": [
    "## Frasi da influencer"
   ]
  },
  {
   "cell_type": "code",
   "execution_count": 50,
   "metadata": {},
   "outputs": [
    {
     "name": "stdout",
     "output_type": "stream",
     "text": [
      "Nuova citazione generata:\n",
      "come va? madonna blululullulu pipipipip blabla lalalal\n"
     ]
    }
   ],
   "source": [
    "import random\n",
    "\n",
    "frammenti = [\n",
    "    \"ciao\",\n",
    "    \"come va?\",\n",
    "    \"dio\",\n",
    "    \"grazioso\",\n",
    "    \"madonna\",\n",
    "    \"blabla\",\n",
    "    \"lalalal\",\n",
    "    \"pipipipip\",\n",
    "    \"blululullulu\"\n",
    "]\n",
    "#funzione per crrare nuove citazioni mescolando i frammenti\n",
    "def crea_citazione():\n",
    "    num_frammenti = random.randint(4,7) #scegli un umero casuale di frammenti da utilizzare\n",
    "    citazione_rimescolata = random.sample(frammenti, num_frammenti)\n",
    "    nuova_citazione = \" \".join(citazione_rimescolata)\n",
    "    return nuova_citazione\n",
    "    \n",
    "#genera una nuova citazione\n",
    "def main():\n",
    "    nuova_citazione = crea_citazione()\n",
    "    print(\"Nuova citazione generata:\")\n",
    "    print(nuova_citazione)\n",
    "    \n",
    "if __name__ == \"__main__\":\n",
    "    main()"
   ]
  },
  {
   "cell_type": "markdown",
   "metadata": {},
   "source": [
    "## Generatore di Poesie"
   ]
  },
  {
   "cell_type": "code",
   "execution_count": 51,
   "metadata": {},
   "outputs": [],
   "source": [
    "import random\n",
    "\n",
    "#liste di parole predefinite per la generazione dlela poesia\n",
    "aggettivi = [\"dolce\", \"serena\", \"profondo\", \"luminoso\", \"gentile\"]\n",
    "sostantivi = [\"amore\", \"mare\", \"cielo\", \"vento\", \"sogno\"]\n",
    "verbi = [\"danza\", \"splende\", \"abbraccia\", \"canta\", \"sorride\"]\n",
    "\n",
    "#genera una poesia casuale\n",
    "def genera_poesia():\n",
    "    verso1 = f\"Il {random.choice(aggettivi)} {random.choice(sostantivi)} {random.choice(verbi)}.\"\n",
    "    verso2 = f\"Il {random.choice(aggettivi)} {random.choice(sostantivi)} {random.choice(verbi)}.\"\n",
    "    verso3 = f\"Nel {random.choice(aggettivi)} {random.choice(sostantivi)}\""
   ]
  },
  {
   "cell_type": "markdown",
   "metadata": {},
   "source": [
    "# Ma... Le AI?\n",
    "\n",
    "Ci arriveremo, ma prima abbiamo bisogno di saper manipolare i dati.\n",
    "\n",
    "Come? \n",
    "\n",
    "### con i grafici"
   ]
  },
  {
   "cell_type": "code",
   "execution_count": 52,
   "metadata": {},
   "outputs": [
    {
     "data": {
      "image/png": "[encoded data removed]",
      "text/plain": [
       "<Figure size 640x480 with 1 Axes>"
      ]
     },
     "metadata": {},
     "output_type": "display_data"
    }
   ],
   "source": [
    "import matplotlib.pyplot as plt\n",
    "\n",
    "animali = [\"Elefanti\", \"Leoni\", \"Tigri\", \"Scimmie\", \"Zebre\"]\n",
    "numero_animali = [4, 3, 2, 8, 15]\n",
    "plt.bar(animali, numero_animali, color=\"violet\", edgecolor=\"navy\")\n",
    "plt.show()"
   ]
  },
  {
   "cell_type": "markdown",
   "metadata": {},
   "source": [
    "nuove librerie:\n",
    "\n",
    "1. matplotlib.pyplot\n",
    "\n",
    "    serve a fare grafici (plot)"
   ]
  },
  {
   "cell_type": "markdown",
   "metadata": {},
   "source": [
    "1. `import matplotlib.pyplot as plt`: Importa la libreria `matplotlib.pyplot` con l'alias `plt`, che consente di accedere alle funzioni per la creazione di grafici.\n",
    "\n",
    "2. `animali = [\"Elefanti\", \"Leoni\", \"Tigri\", \"Scimmie\", \"Zebre\"]`: Definisce una lista di stringhe contenenti i nomi degli animali.\n",
    "\n",
    "3. `numero_animali = [4, 3, 2, 8, 15]`: Definisce una lista di numeri che rappresentano il numero di animali di ciascuna specie corrispondente alla lista degli animali.\n",
    "\n",
    "4. `plt.bar(animali, numero_animali, color=\"violet\", edgecolor=\"navy\")`: Crea un grafico a barre utilizzando i dati forniti. Gli argomenti sono:\n",
    "   - `animali`: La lista degli animali sull'asse x.\n",
    "   - `numero_animali`: La lista dei numeri di animali sull'asse y.\n",
    "   - `color=\"violet\"`: Specifica il colore delle barre, in questo caso, violetto.\n",
    "   - `edgecolor=\"navy\"`: Specifica il colore del bordo delle barre, in questo caso, blu scuro.\n",
    "\n",
    "5. `plt.show()`: Mostra il grafico a barre."
   ]
  },
  {
   "cell_type": "code",
   "execution_count": 53,
   "metadata": {},
   "outputs": [
    {
     "data": {
      "image/png": "[encoded data removed]",
      "text/plain": [
       "<Figure size 640x480 with 1 Axes>"
      ]
     },
     "metadata": {},
     "output_type": "display_data"
    }
   ],
   "source": [
    "import matplotlib.pyplot as plt\n",
    "\n",
    "animali = [\"Elefanti\", \"Leoni\", \"Tigri\", \"Scimmie\", \"Zebre\"]\n",
    "numero_animali = [4, 3, 2, 8, 15]\n",
    "plt.bar(animali, numero_animali, color=\"violet\", edgecolor=\"navy\")\n",
    "plt.title('Numero di animali in uno zoo')\n",
    "plt.xlabel('Animali')\n",
    "plt.ylabel('Numero')\n",
    "\n",
    "plt.show()"
   ]
  },
  {
   "cell_type": "markdown",
   "metadata": {},
   "source": [
    "5. `plt.title('Numero di animali in uno zoo')`: Aggiunge un titolo al grafico.\n",
    "\n",
    "6. `plt.xlabel('Animali')`: Aggiunge un'etichetta sull'asse x.\n",
    "\n",
    "7. `plt.ylabel('Numero')`: Aggiunge un'etichetta sull'asse y."
   ]
  },
  {
   "cell_type": "code",
   "execution_count": 54,
   "metadata": {},
   "outputs": [
    {
     "data": {
      "image/png": "[encoded data removed]",
      "text/plain": [
       "<Figure size 640x480 with 1 Axes>"
      ]
     },
     "metadata": {},
     "output_type": "display_data"
    }
   ],
   "source": [
    "import matplotlib.pyplot as plt\n",
    "\n",
    "mese = [\"Gennio\", \"Febbraio\", \"Marzo\", \"Aprile\", \"Maggio\"]\n",
    "temperatura_media = [10, 12, 15, 18, 22]\n",
    "plt.plot(mese, temperatura_media, marker='o', linestyle='-', color=\"blue\")\n",
    "plt.xlabel('Mese')\n",
    "plt.ylabel('Temperaturra media (°C)')\n",
    "plt.grid(True)\n",
    "plt.show()"
   ]
  },
  {
   "cell_type": "markdown",
   "metadata": {},
   "source": [
    "1. `import matplotlib.pyplot as plt`: Importa la libreria `matplotlib.pyplot` con l'alias `plt`, che consente di accedere alle funzioni per la creazione di grafici.\n",
    "\n",
    "2. `mese = [\"Gennio\", \"Febbraio\", \"Marzo\", \"Aprile\", \"Maggio\"]`: Definisce una lista di stringhe contenenti i nomi dei mesi.\n",
    "\n",
    "3. `temperatura_media = [10, 12, 15, 18, 22]`: Definisce una lista di numeri che rappresentano le temperature medie mensili.\n",
    "\n",
    "4. `plt.plot(mese, temperatura_media, marker='o', linestyle='-', color=\"blue\")`: Crea un grafico a linee utilizzando i dati forniti. Gli argomenti sono:\n",
    "   - `mese`: La lista dei mesi sull'asse x.\n",
    "   - `temperatura_media`: La lista delle temperature medie sull'asse y.\n",
    "   - `marker='o'`: Specifica il marker da utilizzare per i punti sul grafico, in questo caso, cerchi.\n",
    "   - `linestyle='-'`: Specifica lo stile della linea, in questo caso, una linea continua.\n",
    "   - `color=\"blue\"`: Specifica il colore delle linee, in questo caso, blu.\n",
    "\n",
    "5. `plt.xlabel('Mese')`: Aggiunge un'etichetta sull'asse x.\n",
    "\n",
    "6. `plt.ylabel('Temperaturra media (°C)')`: Aggiunge un'etichetta sull'asse y.\n",
    "\n",
    "7. `plt.grid(True)`: Attiva la griglia di sfondo nel grafico.\n",
    "\n",
    "8. `plt.show()`: Mostra il grafico a linee con tutte le personalizzazioni."
   ]
  },
  {
   "cell_type": "code",
   "execution_count": 55,
   "metadata": {},
   "outputs": [
    {
     "data": {
      "image/png": "[encoded data removed]",
      "text/plain": [
       "<Figure size 640x480 with 1 Axes>"
      ]
     },
     "metadata": {},
     "output_type": "display_data"
    }
   ],
   "source": [
    "import matplotlib.pyplot as plt\n",
    "\n",
    "vendite_mensili={\n",
    "    \"gen\":1200,\n",
    "    \"feb\":1000,\n",
    "    \"mar\":3300,\n",
    "    \"apr\":4555\n",
    "}\n",
    "\n",
    "plt.bar(vendite_mensili.keys(), vendite_mensili.values(), color=\"blue\")\n",
    "plt.show()"
   ]
  },
  {
   "cell_type": "markdown",
   "metadata": {},
   "source": [
    "1. `import matplotlib.pyplot as plt`: Importa la libreria `matplotlib.pyplot` con l'alias `plt`, che consente di accedere alle funzioni per la creazione di grafici.\n",
    "\n",
    "2. `vendite_mensili`: È un dizionario che contiene le vendite mensili, con le chiavi rappresentanti l'abbreviazione del mese e i valori rappresentanti il numero di vendite.\n",
    "\n",
    "3. `plt.bar(vendite_mensili.keys(), vendite_mensili.values(), color=\"blue\")`: Crea un grafico a barre utilizzando le chiavi del dizionario come etichette sull'asse x e i valori come altezze delle barre sull'asse y. L'argomento `color=\"blue\"` specifica il colore delle barre come blu.\n",
    "\n",
    "4. `plt.show()`: Mostra il grafico a barre."
   ]
  },
  {
   "cell_type": "code",
   "execution_count": 56,
   "metadata": {},
   "outputs": [
    {
     "data": {
      "text/plain": [
       "<function matplotlib.pyplot.show(close=None, block=None)>"
      ]
     },
     "execution_count": 56,
     "metadata": {},
     "output_type": "execute_result"
    },
    {
     "data": {
      "image/png": "[encoded data removed]",
      "text/plain": [
       "<Figure size 640x480 with 1 Axes>"
      ]
     },
     "metadata": {},
     "output_type": "display_data"
    }
   ],
   "source": [
    "import matplotlib.pyplot as plt\n",
    "eta = [14, 15, 16, 17, 18, 19]\n",
    "altezza = [160, 161, 162, 163, 164, 165]\n",
    "plt.scatter(eta, altezza, color='red', marker='o')\n",
    "plt.title('Scatter plot - Età VS Altezza')\n",
    "plt.xlabel('Età')\n",
    "plt.ylabel('Altezza (cm)')\n",
    "plt.grid(True)\n",
    "plt.show"
   ]
  },
  {
   "cell_type": "markdown",
   "metadata": {},
   "source": [
    "1. `import matplotlib.pyplot as plt`: Importa la libreria `matplotlib.pyplot` con l'alias `plt`, che consente di accedere alle funzioni per la creazione di grafici.\n",
    "\n",
    "2. `eta = [14, 15, 16, 17, 18, 19]`: Definisce una lista di età.\n",
    "\n",
    "3. `altezza = [160, 161, 162, 163, 164, 165]`: Definisce una lista di altezze.\n",
    "\n",
    "4. `plt.scatter(eta, altezza, color='red', marker='o')`: Crea un grafico di dispersione (scatter plot) utilizzando i dati forniti. Gli argomenti sono:\n",
    "   - `eta`: Lista delle età sull'asse x.\n",
    "   - `altezza`: Lista delle altezze sull'asse y.\n",
    "   - `color='red'`: Specifica il colore dei punti, in questo caso, rosso.\n",
    "   - `marker='o'`: Specifica il tipo di marker, in questo caso, cerchi.\n",
    "\n",
    "5. `plt.title('Scatter plot - Età VS Altezza')`: Aggiunge un titolo al grafico.\n",
    "\n",
    "6. `plt.xlabel('Età')`: Aggiunge un'etichetta sull'asse x.\n",
    "\n",
    "7. `plt.ylabel('Altezza (cm)')`: Aggiunge un'etichetta sull'asse y.\n",
    "\n",
    "8. `plt.grid(True)`: Attiva la griglia di sfondo nel grafico.\n",
    "\n",
    "9. `plt.show()`: Mostra il grafico di dispersione con tutte le personalizzazioni."
   ]
  },
  {
   "cell_type": "markdown",
   "metadata": {},
   "source": [
    "# E adesso IA"
   ]
  },
  {
   "cell_type": "markdown",
   "metadata": {},
   "source": [
    "I dataset"
   ]
  },
  {
   "cell_type": "markdown",
   "metadata": {},
   "source": [
    "Un dataset è un insieme strutturato di dati che è organizzato in righe e colonne, simile a una tabella."
   ]
  },
  {
   "cell_type": "code",
   "execution_count": 57,
   "metadata": {},
   "outputs": [
    {
     "data": {
      "text/html": [
       "<div>\n",
       "<style scoped>\n",
       "    .dataframe tbody tr th:only-of-type {\n",
       "        vertical-align: middle;\n",
       "    }\n",
       "\n",
       "    .dataframe tbody tr th {\n",
       "        vertical-align: top;\n",
       "    }\n",
       "\n",
       "    .dataframe thead th {\n",
       "        text-align: right;\n",
       "    }\n",
       "</style>\n",
       "<table border=\"1\" class=\"dataframe\">\n",
       "  <thead>\n",
       "    <tr style=\"text-align: right;\">\n",
       "      <th></th>\n",
       "      <th>età</th>\n",
       "      <th>punteggio</th>\n",
       "      <th>ammesso</th>\n",
       "    </tr>\n",
       "  </thead>\n",
       "  <tbody>\n",
       "    <tr>\n",
       "      <th>0</th>\n",
       "      <td>25.0</td>\n",
       "      <td>90.0</td>\n",
       "      <td>1.0</td>\n",
       "    </tr>\n",
       "    <tr>\n",
       "      <th>1</th>\n",
       "      <td>NaN</td>\n",
       "      <td>85.0</td>\n",
       "      <td>0.0</td>\n",
       "    </tr>\n",
       "    <tr>\n",
       "      <th>2</th>\n",
       "      <td>28.0</td>\n",
       "      <td>NaN</td>\n",
       "      <td>1.0</td>\n",
       "    </tr>\n",
       "    <tr>\n",
       "      <th>3</th>\n",
       "      <td>NaN</td>\n",
       "      <td>75.0</td>\n",
       "      <td>1.0</td>\n",
       "    </tr>\n",
       "    <tr>\n",
       "      <th>4</th>\n",
       "      <td>23.0</td>\n",
       "      <td>NaN</td>\n",
       "      <td>NaN</td>\n",
       "    </tr>\n",
       "    <tr>\n",
       "      <th>5</th>\n",
       "      <td>23.0</td>\n",
       "      <td>77.0</td>\n",
       "      <td>NaN</td>\n",
       "    </tr>\n",
       "  </tbody>\n",
       "</table>\n",
       "</div>"
      ],
      "text/plain": [
       "    età  punteggio  ammesso\n",
       "0  25.0       90.0      1.0\n",
       "1   NaN       85.0      0.0\n",
       "2  28.0        NaN      1.0\n",
       "3   NaN       75.0      1.0\n",
       "4  23.0        NaN      NaN\n",
       "5  23.0       77.0      NaN"
      ]
     },
     "execution_count": 57,
     "metadata": {},
     "output_type": "execute_result"
    }
   ],
   "source": [
    "import pandas as pd\n",
    "\n",
    "# Dataset con dati mancanti rappresentati da None o NaN\n",
    "dataset = [\n",
    "    {\"età\": 25, \"punteggio\": 90, \"ammesso\": 1},\n",
    "    {\"età\": None, \"punteggio\": 85, \"ammesso\": 0},\n",
    "    {\"età\": 28, \"punteggio\": None, \"ammesso\": 1},\n",
    "    {\"età\": None, \"punteggio\": 75, \"ammesso\": 1},\n",
    "    {\"età\": 23, \"punteggio\": None, \"ammesso\": None},\n",
    "    {\"età\": 23, \"punteggio\": 77, \"ammesso\": None},\n",
    "]\n",
    "df = pd.DataFrame(dataset) #dataframe è una tabella\n",
    "df"
   ]
  },
  {
   "cell_type": "markdown",
   "metadata": {},
   "source": [
    "Questo codice utilizza la libreria `pandas` per creare un DataFrame, che è una struttura dati tabellare fornita da Pandas. Ecco una spiegazione dettagliata:\n",
    "\n",
    "1. `import pandas as pd`: Importa la libreria `pandas` con l'alias `pd`, che consente di accedere alle funzioni e agli oggetti di Pandas.\n",
    "\n",
    "2. `dataset`: È una lista di dizionari. Ogni dizionario rappresenta una riga del dataset con le chiavi che corrispondono alle colonne della tabella e i valori rappresentanti i dati delle colonne. Alcuni valori sono mancanti, rappresentati da `None`.\n",
    "\n",
    "3. `pd.DataFrame(dataset)`: Crea un DataFrame utilizzando i dati forniti. Un DataFrame è una struttura dati tabellare di Pandas, dove ogni riga rappresenta un'osservazione e ogni colonna rappresenta una variabile. Questa funzione trasforma il dataset in una tabella organizzata in righe e colonne.\n",
    "\n",
    "4. `df`: Assegna il DataFrame creato a una variabile chiamata `df`.\n",
    "\n",
    "5. `df`: Mostra il DataFrame, visualizzando i dati in formato tabellare.\n",
    "\n",
    "In questo DataFrame, le colonne sono \"età\", \"punteggio\" e \"ammesso\", e ogni riga contiene i dati corrispondenti. I valori mancanti sono rappresentati da `None` nella tabella.\n"
   ]
  },
  {
   "cell_type": "markdown",
   "metadata": {},
   "source": [
    "Nuove librerie:\n",
    "\n",
    "1. Pandas\n",
    "\n",
    "    libreria che permette di creare un dataframe"
   ]
  },
  {
   "cell_type": "markdown",
   "metadata": {},
   "source": [
    "df['punteggio']"
   ]
  },
  {
   "cell_type": "markdown",
   "metadata": {},
   "source": [
    "Mostra il dataframe, nella colonna punteggio"
   ]
  },
  {
   "cell_type": "code",
   "execution_count": 58,
   "metadata": {},
   "outputs": [
    {
     "data": {
      "text/html": [
       "<div>\n",
       "<style scoped>\n",
       "    .dataframe tbody tr th:only-of-type {\n",
       "        vertical-align: middle;\n",
       "    }\n",
       "\n",
       "    .dataframe tbody tr th {\n",
       "        vertical-align: top;\n",
       "    }\n",
       "\n",
       "    .dataframe thead th {\n",
       "        text-align: right;\n",
       "    }\n",
       "</style>\n",
       "<table border=\"1\" class=\"dataframe\">\n",
       "  <thead>\n",
       "    <tr style=\"text-align: right;\">\n",
       "      <th></th>\n",
       "      <th>età</th>\n",
       "      <th>punteggio</th>\n",
       "      <th>ammesso</th>\n",
       "    </tr>\n",
       "  </thead>\n",
       "  <tbody>\n",
       "    <tr>\n",
       "      <th>1</th>\n",
       "      <td>NaN</td>\n",
       "      <td>85.0</td>\n",
       "      <td>0.0</td>\n",
       "    </tr>\n",
       "    <tr>\n",
       "      <th>2</th>\n",
       "      <td>28.0</td>\n",
       "      <td>NaN</td>\n",
       "      <td>1.0</td>\n",
       "    </tr>\n",
       "    <tr>\n",
       "      <th>3</th>\n",
       "      <td>NaN</td>\n",
       "      <td>75.0</td>\n",
       "      <td>1.0</td>\n",
       "    </tr>\n",
       "    <tr>\n",
       "      <th>4</th>\n",
       "      <td>23.0</td>\n",
       "      <td>NaN</td>\n",
       "      <td>NaN</td>\n",
       "    </tr>\n",
       "    <tr>\n",
       "      <th>5</th>\n",
       "      <td>23.0</td>\n",
       "      <td>77.0</td>\n",
       "      <td>NaN</td>\n",
       "    </tr>\n",
       "  </tbody>\n",
       "</table>\n",
       "</div>"
      ],
      "text/plain": [
       "    età  punteggio  ammesso\n",
       "1   NaN       85.0      0.0\n",
       "2  28.0        NaN      1.0\n",
       "3   NaN       75.0      1.0\n",
       "4  23.0        NaN      NaN\n",
       "5  23.0       77.0      NaN"
      ]
     },
     "execution_count": 58,
     "metadata": {},
     "output_type": "execute_result"
    }
   ],
   "source": [
    "#identificazione delle righe con dati mancanti\n",
    "righe_con_dati_mancanti = df[df.isnull().any(axis=1)]\n",
    "righe_con_dati_mancanti"
   ]
  },
  {
   "cell_type": "markdown",
   "metadata": {},
   "source": [
    "1. `righe_con_dati_mancanti = df[df.isnull().any(axis=1)]`: Questa riga di codice utilizza il metodo `.isnull()` per creare un DataFrame booleano in cui ogni cella è `True` se il valore è mancante (`NaN` o `None`), altrimenti è `False`. Successivamente, il metodo `.any(axis=1)` viene utilizzato per controllare se almeno un valore mancante è presente in ciascuna riga. Questo restituisce una serie booleana indicando se ci sono dati mancanti in ogni riga. Infine, questa serie booleana viene usata per filtrare il DataFrame originale `df`, restituendo solo le righe che contengono dati mancanti.\n",
    "\n",
    "2. `righe_con_dati_mancanti`: Questo codice restituisce il DataFrame contenente solo le righe che contengono dati mancanti.\n",
    "\n",
    "In sostanza, questa riga di codice serve a individuare le righe del DataFrame che hanno almeno un valore mancante.\n"
   ]
  },
  {
   "cell_type": "code",
   "execution_count": 59,
   "metadata": {},
   "outputs": [
    {
     "data": {
      "text/plain": [
       "5"
      ]
     },
     "execution_count": 59,
     "metadata": {},
     "output_type": "execute_result"
    }
   ],
   "source": [
    "#Conta quante righe con dati mancanti ci sono in totale\n",
    "totale_dati_mancanti = righe_con_dati_mancanti.shape[0] #0=righe, 1=colonne\n",
    "totale_dati_mancanti"
   ]
  },
  {
   "cell_type": "markdown",
   "metadata": {},
   "source": [
    "Questo codice conta il numero totale di righe con dati mancanti nel DataFrame filtrato `righe_con_dati_mancanti`. Ecco una spiegazione:\n",
    "\n",
    "1. `totale_dati_mancanti = righe_con_dati_mancanti.shape[0]`: La proprietà `.shape` restituisce una tupla che rappresenta le dimensioni del DataFrame. L'elemento `[0]` di questa tupla corrisponde al numero di righe nel DataFrame. Pertanto, `righe_con_dati_mancanti.shape[0]` restituisce il numero totale di righe nel DataFrame `righe_con_dati_mancanti`, che rappresentano i dati mancanti.\n",
    "\n",
    "2. `totale_dati_mancanti`: Questa variabile contiene il numero totale di righe con dati mancanti nel DataFrame filtrato.\n"
   ]
  },
  {
   "cell_type": "code",
   "execution_count": 60,
   "metadata": {},
   "outputs": [
    {
     "name": "stdout",
     "output_type": "stream",
     "text": [
      "righe con dati mancanti:\n",
      "    età  punteggio  ammesso\n",
      "1   NaN       85.0      0.0\n",
      "2  28.0        NaN      1.0\n",
      "3   NaN       75.0      1.0\n",
      "4  23.0        NaN      NaN\n",
      "5  23.0       77.0      NaN\n",
      "Totale dati mancanti:  5\n"
     ]
    }
   ],
   "source": [
    "print('righe con dati mancanti:')\n",
    "print(righe_con_dati_mancanti)\n",
    "print('Totale dati mancanti: ',totale_dati_mancanti)"
   ]
  },
  {
   "cell_type": "code",
   "execution_count": 61,
   "metadata": {},
   "outputs": [
    {
     "data": {
      "text/html": [
       "<div>\n",
       "<style scoped>\n",
       "    .dataframe tbody tr th:only-of-type {\n",
       "        vertical-align: middle;\n",
       "    }\n",
       "\n",
       "    .dataframe tbody tr th {\n",
       "        vertical-align: top;\n",
       "    }\n",
       "\n",
       "    .dataframe thead th {\n",
       "        text-align: right;\n",
       "    }\n",
       "</style>\n",
       "<table border=\"1\" class=\"dataframe\">\n",
       "  <thead>\n",
       "    <tr style=\"text-align: right;\">\n",
       "      <th></th>\n",
       "      <th>nome</th>\n",
       "      <th>età</th>\n",
       "      <th>punteggio</th>\n",
       "      <th>email</th>\n",
       "    </tr>\n",
       "  </thead>\n",
       "  <tbody>\n",
       "    <tr>\n",
       "      <th>0</th>\n",
       "      <td>Alice</td>\n",
       "      <td>25</td>\n",
       "      <td>90.0</td>\n",
       "      <td>alice@email.com</td>\n",
       "    </tr>\n",
       "    <tr>\n",
       "      <th>1</th>\n",
       "      <td>Bob</td>\n",
       "      <td>22</td>\n",
       "      <td>NaN</td>\n",
       "      <td>None</td>\n",
       "    </tr>\n",
       "    <tr>\n",
       "      <th>2</th>\n",
       "      <td>Charlie</td>\n",
       "      <td>28</td>\n",
       "      <td>75.0</td>\n",
       "      <td>charlie@email.com</td>\n",
       "    </tr>\n",
       "  </tbody>\n",
       "</table>\n",
       "</div>"
      ],
      "text/plain": [
       "      nome  età  punteggio              email\n",
       "0    Alice   25       90.0    alice@email.com\n",
       "1      Bob   22        NaN               None\n",
       "2  Charlie   28       75.0  charlie@email.com"
      ]
     },
     "execution_count": 61,
     "metadata": {},
     "output_type": "execute_result"
    }
   ],
   "source": [
    "import pandas as pd\n",
    "\n",
    "# Dataset con dati mancanti rappresentati da None o NaN\n",
    "dataset = [\n",
    "    {\"nome\": \"Alice\", \"età\": 25, \"punteggio\": 90, \"email\": \"alice@email.com\"},\n",
    "    {\"nome\": \"Bob\", \"età\": 22, \"punteggio\": None, \"email\": None},\n",
    "    {\"nome\": \"Charlie\", \"età\": 28, \"punteggio\": 75, \"email\": \"charlie@email.com\"},\n",
    "]\n",
    "\n",
    "# Converti il dataset in un DataFrame\n",
    "df = pd.DataFrame(dataset)\n",
    "df"
   ]
  },
  {
   "cell_type": "code",
   "execution_count": 62,
   "metadata": {},
   "outputs": [
    {
     "data": {
      "text/html": [
       "<div>\n",
       "<style scoped>\n",
       "    .dataframe tbody tr th:only-of-type {\n",
       "        vertical-align: middle;\n",
       "    }\n",
       "\n",
       "    .dataframe tbody tr th {\n",
       "        vertical-align: top;\n",
       "    }\n",
       "\n",
       "    .dataframe thead th {\n",
       "        text-align: right;\n",
       "    }\n",
       "</style>\n",
       "<table border=\"1\" class=\"dataframe\">\n",
       "  <thead>\n",
       "    <tr style=\"text-align: right;\">\n",
       "      <th></th>\n",
       "      <th>nome</th>\n",
       "      <th>età</th>\n",
       "      <th>punteggio</th>\n",
       "      <th>email</th>\n",
       "    </tr>\n",
       "  </thead>\n",
       "  <tbody>\n",
       "    <tr>\n",
       "      <th>0</th>\n",
       "      <td>Alice</td>\n",
       "      <td>25</td>\n",
       "      <td>90.0</td>\n",
       "      <td>alice@email.com</td>\n",
       "    </tr>\n",
       "    <tr>\n",
       "      <th>2</th>\n",
       "      <td>Charlie</td>\n",
       "      <td>28</td>\n",
       "      <td>75.0</td>\n",
       "      <td>charlie@email.com</td>\n",
       "    </tr>\n",
       "  </tbody>\n",
       "</table>\n",
       "</div>"
      ],
      "text/plain": [
       "      nome  età  punteggio              email\n",
       "0    Alice   25       90.0    alice@email.com\n",
       "2  Charlie   28       75.0  charlie@email.com"
      ]
     },
     "execution_count": 62,
     "metadata": {},
     "output_type": "execute_result"
    }
   ],
   "source": [
    "#Rimuovi le righe con dati mancanti\n",
    "df1=df.dropna(inplace=False) #crea un nuovo dataframe in questo caso senza riga\n",
    "                             #se è true allora sostituisce il nuovo dataframe in generale con quello nuovo\n",
    "df1"
   ]
  },
  {
   "cell_type": "code",
   "execution_count": 63,
   "metadata": {},
   "outputs": [
    {
     "data": {
      "text/html": [
       "<div>\n",
       "<style scoped>\n",
       "    .dataframe tbody tr th:only-of-type {\n",
       "        vertical-align: middle;\n",
       "    }\n",
       "\n",
       "    .dataframe tbody tr th {\n",
       "        vertical-align: top;\n",
       "    }\n",
       "\n",
       "    .dataframe thead th {\n",
       "        text-align: right;\n",
       "    }\n",
       "</style>\n",
       "<table border=\"1\" class=\"dataframe\">\n",
       "  <thead>\n",
       "    <tr style=\"text-align: right;\">\n",
       "      <th></th>\n",
       "      <th>Variable1</th>\n",
       "      <th>Variable2</th>\n",
       "      <th>Missing_Column</th>\n",
       "    </tr>\n",
       "  </thead>\n",
       "  <tbody>\n",
       "    <tr>\n",
       "      <th>0</th>\n",
       "      <td>1</td>\n",
       "      <td>1.0</td>\n",
       "      <td>A</td>\n",
       "    </tr>\n",
       "    <tr>\n",
       "      <th>1</th>\n",
       "      <td>2</td>\n",
       "      <td>2.0</td>\n",
       "      <td>B</td>\n",
       "    </tr>\n",
       "    <tr>\n",
       "      <th>2</th>\n",
       "      <td>3</td>\n",
       "      <td>NaN</td>\n",
       "      <td>A</td>\n",
       "    </tr>\n",
       "    <tr>\n",
       "      <th>3</th>\n",
       "      <td>4</td>\n",
       "      <td>4.0</td>\n",
       "      <td>C</td>\n",
       "    </tr>\n",
       "    <tr>\n",
       "      <th>4</th>\n",
       "      <td>5</td>\n",
       "      <td>NaN</td>\n",
       "      <td>NaN</td>\n",
       "    </tr>\n",
       "  </tbody>\n",
       "</table>\n",
       "</div>"
      ],
      "text/plain": [
       "   Variable1  Variable2 Missing_Column\n",
       "0          1        1.0              A\n",
       "1          2        2.0              B\n",
       "2          3        NaN              A\n",
       "3          4        4.0              C\n",
       "4          5        NaN            NaN"
      ]
     },
     "execution_count": 63,
     "metadata": {},
     "output_type": "execute_result"
    }
   ],
   "source": [
    "import pandas as pd\n",
    "import seaborn as sns\n",
    "import numpy as np\n",
    "import matplotlib.pyplot as plt\n",
    "\n",
    "# Genera dati di esempio\n",
    "data = {\n",
    "    'Variable1': [1, 2, 3, 4, 5],\n",
    "    'Variable2': [1, 2, np.nan, 4, np.nan],\n",
    "    'Missing_Column': ['A', 'B', 'A', 'C', np.nan]\n",
    "}\n",
    "# Crea un DataFrame\n",
    "df = pd.DataFrame(data)\n",
    "df1=pd.DataFrame()\n",
    "df"
   ]
  },
  {
   "cell_type": "code",
   "execution_count": 64,
   "metadata": {},
   "outputs": [
    {
     "data": {
      "text/html": [
       "<div>\n",
       "<style scoped>\n",
       "    .dataframe tbody tr th:only-of-type {\n",
       "        vertical-align: middle;\n",
       "    }\n",
       "\n",
       "    .dataframe tbody tr th {\n",
       "        vertical-align: top;\n",
       "    }\n",
       "\n",
       "    .dataframe thead th {\n",
       "        text-align: right;\n",
       "    }\n",
       "</style>\n",
       "<table border=\"1\" class=\"dataframe\">\n",
       "  <thead>\n",
       "    <tr style=\"text-align: right;\">\n",
       "      <th></th>\n",
       "      <th>Variable1</th>\n",
       "      <th>Variable2</th>\n",
       "    </tr>\n",
       "  </thead>\n",
       "  <tbody>\n",
       "    <tr>\n",
       "      <th>0</th>\n",
       "      <td>1</td>\n",
       "      <td>1.0</td>\n",
       "    </tr>\n",
       "    <tr>\n",
       "      <th>1</th>\n",
       "      <td>2</td>\n",
       "      <td>2.0</td>\n",
       "    </tr>\n",
       "    <tr>\n",
       "      <th>2</th>\n",
       "      <td>3</td>\n",
       "      <td>NaN</td>\n",
       "    </tr>\n",
       "    <tr>\n",
       "      <th>3</th>\n",
       "      <td>4</td>\n",
       "      <td>4.0</td>\n",
       "    </tr>\n",
       "    <tr>\n",
       "      <th>4</th>\n",
       "      <td>5</td>\n",
       "      <td>NaN</td>\n",
       "    </tr>\n",
       "  </tbody>\n",
       "</table>\n",
       "</div>"
      ],
      "text/plain": [
       "   Variable1  Variable2\n",
       "0          1        1.0\n",
       "1          2        2.0\n",
       "2          3        NaN\n",
       "3          4        4.0\n",
       "4          5        NaN"
      ]
     },
     "execution_count": 64,
     "metadata": {},
     "output_type": "execute_result"
    }
   ],
   "source": [
    "#trattamento dei missing values nelle variabili numeriche\n",
    "numeric_cols = df.select_dtypes(include=['number'])\n",
    "numeric_cols"
   ]
  },
  {
   "cell_type": "code",
   "execution_count": 65,
   "metadata": {},
   "outputs": [
    {
     "data": {
      "text/plain": [
       "Index(['Variable1', 'Variable2'], dtype='object')"
      ]
     },
     "execution_count": 65,
     "metadata": {},
     "output_type": "execute_result"
    }
   ],
   "source": [
    "#trattamento dei missing values nelle variabili numeriche\n",
    "numeric_cols = df.select_dtypes(include=['number']) #include colonne numeriche e fa vedere solo categoriche\n",
    "numeric_cols.columns"
   ]
  },
  {
   "cell_type": "code",
   "execution_count": 66,
   "metadata": {},
   "outputs": [
    {
     "data": {
      "text/html": [
       "<div>\n",
       "<style scoped>\n",
       "    .dataframe tbody tr th:only-of-type {\n",
       "        vertical-align: middle;\n",
       "    }\n",
       "\n",
       "    .dataframe tbody tr th {\n",
       "        vertical-align: top;\n",
       "    }\n",
       "\n",
       "    .dataframe thead th {\n",
       "        text-align: right;\n",
       "    }\n",
       "</style>\n",
       "<table border=\"1\" class=\"dataframe\">\n",
       "  <thead>\n",
       "    <tr style=\"text-align: right;\">\n",
       "      <th></th>\n",
       "      <th>Variable1</th>\n",
       "      <th>Variable2</th>\n",
       "    </tr>\n",
       "  </thead>\n",
       "  <tbody>\n",
       "    <tr>\n",
       "      <th>0</th>\n",
       "      <td>1</td>\n",
       "      <td>1.000000</td>\n",
       "    </tr>\n",
       "    <tr>\n",
       "      <th>1</th>\n",
       "      <td>2</td>\n",
       "      <td>2.000000</td>\n",
       "    </tr>\n",
       "    <tr>\n",
       "      <th>2</th>\n",
       "      <td>3</td>\n",
       "      <td>2.333333</td>\n",
       "    </tr>\n",
       "    <tr>\n",
       "      <th>3</th>\n",
       "      <td>4</td>\n",
       "      <td>4.000000</td>\n",
       "    </tr>\n",
       "    <tr>\n",
       "      <th>4</th>\n",
       "      <td>5</td>\n",
       "      <td>2.333333</td>\n",
       "    </tr>\n",
       "  </tbody>\n",
       "</table>\n",
       "</div>"
      ],
      "text/plain": [
       "   Variable1  Variable2\n",
       "0          1   1.000000\n",
       "1          2   2.000000\n",
       "2          3   2.333333\n",
       "3          4   4.000000\n",
       "4          5   2.333333"
      ]
     },
     "execution_count": 66,
     "metadata": {},
     "output_type": "execute_result"
    }
   ],
   "source": [
    "df1[numeric_cols.columns] = df[numeric_cols.columns].fillna(df[numeric_cols.columns].mean())\n",
    "df1\n",
    "\n",
    "#crea colonne con stessi nomi (var1 e var2) = assegna valori delle colonne df originale(mean=media)"
   ]
  },
  {
   "cell_type": "code",
   "execution_count": 67,
   "metadata": {},
   "outputs": [
    {
     "data": {
      "text/plain": [
       "Index(['Missing_Column'], dtype='object')"
      ]
     },
     "execution_count": 67,
     "metadata": {},
     "output_type": "execute_result"
    }
   ],
   "source": [
    "#trattamento dei missing values nelle variabili categoriche\n",
    "categorical_cols = df.select_dtypes(exclude=['number']) #esclude colonne numeriche e fa vedere solo categoriche\n",
    "categorical_cols.columns"
   ]
  },
  {
   "cell_type": "code",
   "execution_count": 68,
   "metadata": {},
   "outputs": [
    {
     "data": {
      "text/html": [
       "<div>\n",
       "<style scoped>\n",
       "    .dataframe tbody tr th:only-of-type {\n",
       "        vertical-align: middle;\n",
       "    }\n",
       "\n",
       "    .dataframe tbody tr th {\n",
       "        vertical-align: top;\n",
       "    }\n",
       "\n",
       "    .dataframe thead th {\n",
       "        text-align: right;\n",
       "    }\n",
       "</style>\n",
       "<table border=\"1\" class=\"dataframe\">\n",
       "  <thead>\n",
       "    <tr style=\"text-align: right;\">\n",
       "      <th></th>\n",
       "      <th>Variable1</th>\n",
       "      <th>Variable2</th>\n",
       "    </tr>\n",
       "  </thead>\n",
       "  <tbody>\n",
       "    <tr>\n",
       "      <th>0</th>\n",
       "      <td>1</td>\n",
       "      <td>1.000000</td>\n",
       "    </tr>\n",
       "    <tr>\n",
       "      <th>1</th>\n",
       "      <td>2</td>\n",
       "      <td>2.000000</td>\n",
       "    </tr>\n",
       "    <tr>\n",
       "      <th>2</th>\n",
       "      <td>3</td>\n",
       "      <td>2.333333</td>\n",
       "    </tr>\n",
       "    <tr>\n",
       "      <th>3</th>\n",
       "      <td>4</td>\n",
       "      <td>4.000000</td>\n",
       "    </tr>\n",
       "    <tr>\n",
       "      <th>4</th>\n",
       "      <td>5</td>\n",
       "      <td>2.333333</td>\n",
       "    </tr>\n",
       "  </tbody>\n",
       "</table>\n",
       "</div>"
      ],
      "text/plain": [
       "   Variable1  Variable2\n",
       "0          1   1.000000\n",
       "1          2   2.000000\n",
       "2          3   2.333333\n",
       "3          4   4.000000\n",
       "4          5   2.333333"
      ]
     },
     "execution_count": 68,
     "metadata": {},
     "output_type": "execute_result"
    }
   ],
   "source": [
    "df1[numeric_cols.columns] = df[numeric_cols.columns].fillna(df[numeric_cols.columns].mean().iloc[1])\n",
    "df1\n",
    "#iloc[] = gestisce indici"
   ]
  },
  {
   "cell_type": "markdown",
   "metadata": {},
   "source": [
    "# RICORDA QUESTO #"
   ]
  },
  {
   "cell_type": "code",
   "execution_count": 69,
   "metadata": {},
   "outputs": [
    {
     "name": "stdout",
     "output_type": "stream",
     "text": [
      "il primo coi valori mancati \n",
      "   Variable1  Variable2 Missing_Column\n",
      "0          1        1.0              A\n",
      "1          2        2.0              B\n",
      "2          3        NaN              A\n",
      "3          4        4.0              C\n",
      "4          5        NaN            NaN \n",
      "e\n"
     ]
    }
   ],
   "source": [
    "print(f\"il primo coi valori mancati \\n{df} \\ne\")"
   ]
  },
  {
   "cell_type": "markdown",
   "metadata": {},
   "source": [
    "# RICORDA QUESTO #"
   ]
  },
  {
   "cell_type": "code",
   "execution_count": 70,
   "metadata": {},
   "outputs": [
    {
     "data": {
      "text/html": [
       "<div>\n",
       "<style scoped>\n",
       "    .dataframe tbody tr th:only-of-type {\n",
       "        vertical-align: middle;\n",
       "    }\n",
       "\n",
       "    .dataframe tbody tr th {\n",
       "        vertical-align: top;\n",
       "    }\n",
       "\n",
       "    .dataframe thead th {\n",
       "        text-align: right;\n",
       "    }\n",
       "</style>\n",
       "<table border=\"1\" class=\"dataframe\">\n",
       "  <thead>\n",
       "    <tr style=\"text-align: right;\">\n",
       "      <th></th>\n",
       "      <th>Feature1</th>\n",
       "      <th>Feature2</th>\n",
       "      <th>Feature3</th>\n",
       "    </tr>\n",
       "  </thead>\n",
       "  <tbody>\n",
       "    <tr>\n",
       "      <th>0</th>\n",
       "      <td>1.0</td>\n",
       "      <td>NaN</td>\n",
       "      <td>1.0</td>\n",
       "    </tr>\n",
       "    <tr>\n",
       "      <th>1</th>\n",
       "      <td>2.0</td>\n",
       "      <td>2.0</td>\n",
       "      <td>NaN</td>\n",
       "    </tr>\n",
       "    <tr>\n",
       "      <th>2</th>\n",
       "      <td>NaN</td>\n",
       "      <td>3.0</td>\n",
       "      <td>3.0</td>\n",
       "    </tr>\n",
       "    <tr>\n",
       "      <th>3</th>\n",
       "      <td>4.0</td>\n",
       "      <td>4.0</td>\n",
       "      <td>4.0</td>\n",
       "    </tr>\n",
       "    <tr>\n",
       "      <th>4</th>\n",
       "      <td>5.0</td>\n",
       "      <td>NaN</td>\n",
       "      <td>5.0</td>\n",
       "    </tr>\n",
       "  </tbody>\n",
       "</table>\n",
       "</div>"
      ],
      "text/plain": [
       "   Feature1  Feature2  Feature3\n",
       "0       1.0       NaN       1.0\n",
       "1       2.0       2.0       NaN\n",
       "2       NaN       3.0       3.0\n",
       "3       4.0       4.0       4.0\n",
       "4       5.0       NaN       5.0"
      ]
     },
     "execution_count": 70,
     "metadata": {},
     "output_type": "execute_result"
    }
   ],
   "source": [
    "import pandas as pd\n",
    "import matplotlib.pyplot as plt\n",
    "import numpy as np\n",
    "\n",
    "# Genera dati di esempio\n",
    "data = {\n",
    "    'Feature1': [1, 2, np.nan, 4, 5],\n",
    "    'Feature2': [np.nan, 2, 3, 4, np.nan],\n",
    "    'Feature3': [1, np.nan, 3, 4, 5]\n",
    "}\n",
    "# Crea un DataFrame\n",
    "df = pd.DataFrame(data)\n",
    "df"
   ]
  },
  {
   "cell_type": "code",
   "execution_count": 71,
   "metadata": {},
   "outputs": [
    {
     "data": {
      "text/html": [
       "<div>\n",
       "<style scoped>\n",
       "    .dataframe tbody tr th:only-of-type {\n",
       "        vertical-align: middle;\n",
       "    }\n",
       "\n",
       "    .dataframe tbody tr th {\n",
       "        vertical-align: top;\n",
       "    }\n",
       "\n",
       "    .dataframe thead th {\n",
       "        text-align: right;\n",
       "    }\n",
       "</style>\n",
       "<table border=\"1\" class=\"dataframe\">\n",
       "  <thead>\n",
       "    <tr style=\"text-align: right;\">\n",
       "      <th></th>\n",
       "      <th>Feature1</th>\n",
       "      <th>Feature2</th>\n",
       "      <th>Feature3</th>\n",
       "    </tr>\n",
       "  </thead>\n",
       "  <tbody>\n",
       "    <tr>\n",
       "      <th>0</th>\n",
       "      <td>False</td>\n",
       "      <td>True</td>\n",
       "      <td>False</td>\n",
       "    </tr>\n",
       "    <tr>\n",
       "      <th>1</th>\n",
       "      <td>False</td>\n",
       "      <td>False</td>\n",
       "      <td>True</td>\n",
       "    </tr>\n",
       "    <tr>\n",
       "      <th>2</th>\n",
       "      <td>True</td>\n",
       "      <td>False</td>\n",
       "      <td>False</td>\n",
       "    </tr>\n",
       "    <tr>\n",
       "      <th>3</th>\n",
       "      <td>False</td>\n",
       "      <td>False</td>\n",
       "      <td>False</td>\n",
       "    </tr>\n",
       "    <tr>\n",
       "      <th>4</th>\n",
       "      <td>False</td>\n",
       "      <td>True</td>\n",
       "      <td>False</td>\n",
       "    </tr>\n",
       "  </tbody>\n",
       "</table>\n",
       "</div>"
      ],
      "text/plain": [
       "   Feature1  Feature2  Feature3\n",
       "0     False      True     False\n",
       "1     False     False      True\n",
       "2      True     False     False\n",
       "3     False     False     False\n",
       "4     False      True     False"
      ]
     },
     "execution_count": 71,
     "metadata": {},
     "output_type": "execute_result"
    }
   ],
   "source": [
    "df.isnull()"
   ]
  },
  {
   "cell_type": "code",
   "execution_count": 72,
   "metadata": {},
   "outputs": [
    {
     "data": {
      "text/plain": [
       "Feature1    1\n",
       "Feature2    2\n",
       "Feature3    1\n",
       "dtype: int64"
      ]
     },
     "execution_count": 72,
     "metadata": {},
     "output_type": "execute_result"
    }
   ],
   "source": [
    "df.isnull().sum()"
   ]
  },
  {
   "cell_type": "code",
   "execution_count": 73,
   "metadata": {},
   "outputs": [
    {
     "data": {
      "text/plain": [
       "Feature1    20.0\n",
       "Feature2    40.0\n",
       "Feature3    20.0\n",
       "dtype: float64"
      ]
     },
     "execution_count": 73,
     "metadata": {},
     "output_type": "execute_result"
    }
   ],
   "source": [
    "missing_percent = df.isnull().sum() / len(df) * 100\n",
    "missing_percent"
   ]
  },
  {
   "cell_type": "code",
   "execution_count": 74,
   "metadata": {},
   "outputs": [
    {
     "data": {
      "image/png": "[encoded data removed]",
      "text/plain": [
       "<Figure size 1000x600 with 1 Axes>"
      ]
     },
     "metadata": {},
     "output_type": "display_data"
    }
   ],
   "source": [
    "#Calcola la percentuale di righe con missing values per ciascuna variabile\n",
    "missing_percent= (df.isnull().sum()) / len(df) * 100\n",
    "\n",
    "#crea il grafico a barre\n",
    "plt.figure(figsize=(10,6))\n",
    "missing_percent.plot(kind='bar', color='skyblue', alpha=0.8)\n",
    "plt.xlabel('Variabile')\n",
    "plt.ylabel('5 di missing values')\n",
    "plt.title('analisi del missing values per variabile')\n",
    "plt.xticks(rotation=0)\n",
    "plt.show()"
   ]
  },
  {
   "cell_type": "code",
   "execution_count": 75,
   "metadata": {},
   "outputs": [
    {
     "data": {
      "text/html": [
       "<div>\n",
       "<style scoped>\n",
       "    .dataframe tbody tr th:only-of-type {\n",
       "        vertical-align: middle;\n",
       "    }\n",
       "\n",
       "    .dataframe tbody tr th {\n",
       "        vertical-align: top;\n",
       "    }\n",
       "\n",
       "    .dataframe thead th {\n",
       "        text-align: right;\n",
       "    }\n",
       "</style>\n",
       "<table border=\"1\" class=\"dataframe\">\n",
       "  <thead>\n",
       "    <tr style=\"text-align: right;\">\n",
       "      <th></th>\n",
       "      <th>Feature1</th>\n",
       "      <th>Feature2</th>\n",
       "      <th>Feature3</th>\n",
       "    </tr>\n",
       "  </thead>\n",
       "  <tbody>\n",
       "    <tr>\n",
       "      <th>0</th>\n",
       "      <td>False</td>\n",
       "      <td>True</td>\n",
       "      <td>False</td>\n",
       "    </tr>\n",
       "    <tr>\n",
       "      <th>1</th>\n",
       "      <td>False</td>\n",
       "      <td>False</td>\n",
       "      <td>True</td>\n",
       "    </tr>\n",
       "    <tr>\n",
       "      <th>2</th>\n",
       "      <td>True</td>\n",
       "      <td>False</td>\n",
       "      <td>False</td>\n",
       "    </tr>\n",
       "    <tr>\n",
       "      <th>3</th>\n",
       "      <td>False</td>\n",
       "      <td>False</td>\n",
       "      <td>False</td>\n",
       "    </tr>\n",
       "    <tr>\n",
       "      <th>4</th>\n",
       "      <td>False</td>\n",
       "      <td>True</td>\n",
       "      <td>False</td>\n",
       "    </tr>\n",
       "  </tbody>\n",
       "</table>\n",
       "</div>"
      ],
      "text/plain": [
       "   Feature1  Feature2  Feature3\n",
       "0     False      True     False\n",
       "1     False     False      True\n",
       "2      True     False     False\n",
       "3     False     False     False\n",
       "4     False      True     False"
      ]
     },
     "execution_count": 75,
     "metadata": {},
     "output_type": "execute_result"
    }
   ],
   "source": [
    "import pandas as pd\n",
    "import seaborn as sns\n",
    "import matplotlib.pyplot as plt\n",
    "import numpy as np\n",
    "\n",
    "# Genera dati di esempio\n",
    "data = {\n",
    "    'Feature1': [1, 2, np.nan, 4, 5],\n",
    "    'Feature2': [np.nan, 2, 3, 4, np.nan],\n",
    "    'Feature3': [1, np.nan, 3, 4, 5]\n",
    "}\n",
    "\n",
    "# Crea un DataFrame\n",
    "df = pd.DataFrame(data)\n",
    "\n",
    "# Calcola la matrice di missing values\n",
    "missing_matrix = df.isnull()\n",
    "missing_matrix"
   ]
  }
 ],
 "metadata": {
  "kernelspec": {
   "display_name": "Python 3",
   "language": "python",
   "name": "python3"
  },
  "language_info": {
   "codemirror_mode": {
    "name": "ipython",
    "version": 3
   },
   "file_extension": ".py",
   "mimetype": "text/x-python",
   "name": "python",
   "nbconvert_exporter": "python",
   "pygments_lexer": "ipython3",
   "version": "3.10.6"
  }
 },
 "nbformat": 4,
 "nbformat_minor": 2
}
